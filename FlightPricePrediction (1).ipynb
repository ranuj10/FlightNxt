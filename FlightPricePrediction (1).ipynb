{
 "cells": [
  {
   "cell_type": "code",
   "execution_count": 49,
   "metadata": {
    "id": "5B9cXgKgEWgu"
   },
   "outputs": [],
   "source": [
    "#Importing Libraries\n",
    "import pandas as pd\n",
    "import numpy as np\n",
    "import matplotlib.pyplot as plt\n",
    "import seaborn as sns\n",
    "from sklearn.model_selection import train_test_split\n",
    "from sklearn.linear_model import LinearRegression\n",
    "from sklearn.linear_model import LogisticRegression\n",
    "from sklearn.tree import DecisionTreeRegressor\n",
    "from sklearn.ensemble import RandomForestRegressor\n",
    "from sklearn.model_selection import GridSearchCV, cross_val_score, KFold\n",
    "from sklearn.metrics import mean_squared_error, r2_score, mean_absolute_error"
   ]
  },
  {
   "cell_type": "markdown",
   "metadata": {},
   "source": [
    "# DATA COLLECTION"
   ]
  },
  {
   "cell_type": "code",
   "execution_count": 50,
   "metadata": {
    "colab": {
     "base_uri": "https://localhost:8080/",
     "height": 423
    },
    "id": "yhBZf9ZETGdT",
    "outputId": "df15d2cf-40cf-4b03-b9ca-5f65d9e42c94"
   },
   "outputs": [
    {
     "data": {
      "text/html": [
       "<div>\n",
       "<style scoped>\n",
       "    .dataframe tbody tr th:only-of-type {\n",
       "        vertical-align: middle;\n",
       "    }\n",
       "\n",
       "    .dataframe tbody tr th {\n",
       "        vertical-align: top;\n",
       "    }\n",
       "\n",
       "    .dataframe thead th {\n",
       "        text-align: right;\n",
       "    }\n",
       "</style>\n",
       "<table border=\"1\" class=\"dataframe\">\n",
       "  <thead>\n",
       "    <tr style=\"text-align: right;\">\n",
       "      <th></th>\n",
       "      <th>airline</th>\n",
       "      <th>ch_code</th>\n",
       "      <th>num_code</th>\n",
       "      <th>dep_time</th>\n",
       "      <th>from</th>\n",
       "      <th>time_taken</th>\n",
       "      <th>arr_time</th>\n",
       "      <th>to</th>\n",
       "      <th>price</th>\n",
       "      <th>class</th>\n",
       "      <th>Number of Stops</th>\n",
       "    </tr>\n",
       "  </thead>\n",
       "  <tbody>\n",
       "    <tr>\n",
       "      <th>0</th>\n",
       "      <td>SpiceJet</td>\n",
       "      <td>SG</td>\n",
       "      <td>8709</td>\n",
       "      <td>18:55</td>\n",
       "      <td>Delhi</td>\n",
       "      <td>02h 10m</td>\n",
       "      <td>21:05</td>\n",
       "      <td>Mumbai</td>\n",
       "      <td>5,953</td>\n",
       "      <td>Economy</td>\n",
       "      <td>0</td>\n",
       "    </tr>\n",
       "    <tr>\n",
       "      <th>1</th>\n",
       "      <td>SpiceJet</td>\n",
       "      <td>SG</td>\n",
       "      <td>8157</td>\n",
       "      <td>06:20</td>\n",
       "      <td>Delhi</td>\n",
       "      <td>02h 20m</td>\n",
       "      <td>08:40</td>\n",
       "      <td>Mumbai</td>\n",
       "      <td>5,953</td>\n",
       "      <td>Economy</td>\n",
       "      <td>0</td>\n",
       "    </tr>\n",
       "    <tr>\n",
       "      <th>2</th>\n",
       "      <td>AirAsia</td>\n",
       "      <td>I5</td>\n",
       "      <td>764</td>\n",
       "      <td>04:25</td>\n",
       "      <td>Delhi</td>\n",
       "      <td>02h 10m</td>\n",
       "      <td>06:35</td>\n",
       "      <td>Mumbai</td>\n",
       "      <td>5,956</td>\n",
       "      <td>Economy</td>\n",
       "      <td>0</td>\n",
       "    </tr>\n",
       "    <tr>\n",
       "      <th>3</th>\n",
       "      <td>Vistara</td>\n",
       "      <td>UK</td>\n",
       "      <td>995</td>\n",
       "      <td>10:20</td>\n",
       "      <td>Delhi</td>\n",
       "      <td>02h 15m</td>\n",
       "      <td>12:35</td>\n",
       "      <td>Mumbai</td>\n",
       "      <td>5,955</td>\n",
       "      <td>Economy</td>\n",
       "      <td>0</td>\n",
       "    </tr>\n",
       "    <tr>\n",
       "      <th>4</th>\n",
       "      <td>Vistara</td>\n",
       "      <td>UK</td>\n",
       "      <td>963</td>\n",
       "      <td>08:50</td>\n",
       "      <td>Delhi</td>\n",
       "      <td>02h 20m</td>\n",
       "      <td>11:10</td>\n",
       "      <td>Mumbai</td>\n",
       "      <td>5,955</td>\n",
       "      <td>Economy</td>\n",
       "      <td>0</td>\n",
       "    </tr>\n",
       "    <tr>\n",
       "      <th>...</th>\n",
       "      <td>...</td>\n",
       "      <td>...</td>\n",
       "      <td>...</td>\n",
       "      <td>...</td>\n",
       "      <td>...</td>\n",
       "      <td>...</td>\n",
       "      <td>...</td>\n",
       "      <td>...</td>\n",
       "      <td>...</td>\n",
       "      <td>...</td>\n",
       "      <td>...</td>\n",
       "    </tr>\n",
       "    <tr>\n",
       "      <th>300256</th>\n",
       "      <td>Vistara</td>\n",
       "      <td>UK</td>\n",
       "      <td>822</td>\n",
       "      <td>09:45</td>\n",
       "      <td>Chennai</td>\n",
       "      <td>10h 05m</td>\n",
       "      <td>19:50</td>\n",
       "      <td>Hyderabad</td>\n",
       "      <td>69,265</td>\n",
       "      <td>Business</td>\n",
       "      <td>1</td>\n",
       "    </tr>\n",
       "    <tr>\n",
       "      <th>300257</th>\n",
       "      <td>Vistara</td>\n",
       "      <td>UK</td>\n",
       "      <td>826</td>\n",
       "      <td>12:30</td>\n",
       "      <td>Chennai</td>\n",
       "      <td>10h 25m</td>\n",
       "      <td>22:55</td>\n",
       "      <td>Hyderabad</td>\n",
       "      <td>77,105</td>\n",
       "      <td>Business</td>\n",
       "      <td>1</td>\n",
       "    </tr>\n",
       "    <tr>\n",
       "      <th>300258</th>\n",
       "      <td>Vistara</td>\n",
       "      <td>UK</td>\n",
       "      <td>832</td>\n",
       "      <td>07:05</td>\n",
       "      <td>Chennai</td>\n",
       "      <td>13h 50m</td>\n",
       "      <td>20:55</td>\n",
       "      <td>Hyderabad</td>\n",
       "      <td>79,099</td>\n",
       "      <td>Business</td>\n",
       "      <td>1</td>\n",
       "    </tr>\n",
       "    <tr>\n",
       "      <th>300259</th>\n",
       "      <td>Vistara</td>\n",
       "      <td>UK</td>\n",
       "      <td>828</td>\n",
       "      <td>07:00</td>\n",
       "      <td>Chennai</td>\n",
       "      <td>10h 00m</td>\n",
       "      <td>17:00</td>\n",
       "      <td>Hyderabad</td>\n",
       "      <td>81,585</td>\n",
       "      <td>Business</td>\n",
       "      <td>1</td>\n",
       "    </tr>\n",
       "    <tr>\n",
       "      <th>300260</th>\n",
       "      <td>Vistara</td>\n",
       "      <td>UK</td>\n",
       "      <td>822</td>\n",
       "      <td>09:45</td>\n",
       "      <td>Chennai</td>\n",
       "      <td>10h 05m</td>\n",
       "      <td>19:50</td>\n",
       "      <td>Hyderabad</td>\n",
       "      <td>81,585</td>\n",
       "      <td>Business</td>\n",
       "      <td>1</td>\n",
       "    </tr>\n",
       "  </tbody>\n",
       "</table>\n",
       "<p>300261 rows × 11 columns</p>\n",
       "</div>"
      ],
      "text/plain": [
       "         airline ch_code  num_code dep_time     from time_taken arr_time  \\\n",
       "0       SpiceJet      SG      8709    18:55    Delhi    02h 10m    21:05   \n",
       "1       SpiceJet      SG      8157    06:20    Delhi    02h 20m    08:40   \n",
       "2        AirAsia      I5       764    04:25    Delhi    02h 10m    06:35   \n",
       "3        Vistara      UK       995    10:20    Delhi    02h 15m    12:35   \n",
       "4        Vistara      UK       963    08:50    Delhi    02h 20m    11:10   \n",
       "...          ...     ...       ...      ...      ...        ...      ...   \n",
       "300256   Vistara      UK       822    09:45  Chennai    10h 05m    19:50   \n",
       "300257   Vistara      UK       826    12:30  Chennai    10h 25m    22:55   \n",
       "300258   Vistara      UK       832    07:05  Chennai    13h 50m    20:55   \n",
       "300259   Vistara      UK       828    07:00  Chennai    10h 00m    17:00   \n",
       "300260   Vistara      UK       822    09:45  Chennai    10h 05m    19:50   \n",
       "\n",
       "               to   price     class Number of Stops  \n",
       "0          Mumbai   5,953   Economy               0  \n",
       "1          Mumbai   5,953   Economy               0  \n",
       "2          Mumbai   5,956   Economy               0  \n",
       "3          Mumbai   5,955   Economy               0  \n",
       "4          Mumbai   5,955   Economy               0  \n",
       "...           ...     ...       ...             ...  \n",
       "300256  Hyderabad  69,265  Business               1  \n",
       "300257  Hyderabad  77,105  Business               1  \n",
       "300258  Hyderabad  79,099  Business               1  \n",
       "300259  Hyderabad  81,585  Business               1  \n",
       "300260  Hyderabad  81,585  Business               1  \n",
       "\n",
       "[300261 rows x 11 columns]"
      ]
     },
     "execution_count": 50,
     "metadata": {},
     "output_type": "execute_result"
    }
   ],
   "source": [
    "#Read Datasets\n",
    "data_business = pd.read_csv('business.csv')\n",
    "data_economy = pd.read_csv('economy.csv')\n",
    "#Add a column called Class\n",
    "data_business['class']='Business'\n",
    "data_economy['class']='Economy'\n",
    "#Concatenate both datasets\n",
    "data=pd.concat([data_economy,data_business],axis=0)\n",
    "#Replace column stop with Number of stop\n",
    "data['Number of Stops']= data['stop'].str.slice(start=0, stop=1).replace('n','0')\n",
    "df = pd.DataFrame(data)\n",
    "df = df.drop(columns=['stop'])\n",
    "#Add Serial Number\n",
    "df.insert(0,' Sl no.', range(1, len(df) + 1))\n",
    "#Drop unneccessary column\n",
    "df= df.drop(columns=['date'])\n",
    "\n",
    "#fixing the index\n",
    "df=df.reset_index()\n",
    "df=df.drop(columns=[' Sl no.','index'])\n",
    "df"
   ]
  },
  {
   "cell_type": "code",
   "execution_count": 51,
   "metadata": {
    "colab": {
     "base_uri": "https://localhost:8080/",
     "height": 206
    },
    "id": "qA5swln-Ycb6",
    "outputId": "189bebb2-54c8-4167-b9ec-1bb28a9d77e7"
   },
   "outputs": [
    {
     "data": {
      "text/html": [
       "<div>\n",
       "<style scoped>\n",
       "    .dataframe tbody tr th:only-of-type {\n",
       "        vertical-align: middle;\n",
       "    }\n",
       "\n",
       "    .dataframe tbody tr th {\n",
       "        vertical-align: top;\n",
       "    }\n",
       "\n",
       "    .dataframe thead th {\n",
       "        text-align: right;\n",
       "    }\n",
       "</style>\n",
       "<table border=\"1\" class=\"dataframe\">\n",
       "  <thead>\n",
       "    <tr style=\"text-align: right;\">\n",
       "      <th></th>\n",
       "      <th>airline</th>\n",
       "      <th>ch_code</th>\n",
       "      <th>num_code</th>\n",
       "      <th>dep_time</th>\n",
       "      <th>from</th>\n",
       "      <th>time_taken</th>\n",
       "      <th>arr_time</th>\n",
       "      <th>to</th>\n",
       "      <th>price</th>\n",
       "      <th>class</th>\n",
       "      <th>Number of Stops</th>\n",
       "    </tr>\n",
       "  </thead>\n",
       "  <tbody>\n",
       "    <tr>\n",
       "      <th>0</th>\n",
       "      <td>SpiceJet</td>\n",
       "      <td>SG</td>\n",
       "      <td>8709</td>\n",
       "      <td>18:55</td>\n",
       "      <td>Delhi</td>\n",
       "      <td>02h 10m</td>\n",
       "      <td>21:05</td>\n",
       "      <td>Mumbai</td>\n",
       "      <td>5,953</td>\n",
       "      <td>Economy</td>\n",
       "      <td>0</td>\n",
       "    </tr>\n",
       "    <tr>\n",
       "      <th>1</th>\n",
       "      <td>SpiceJet</td>\n",
       "      <td>SG</td>\n",
       "      <td>8157</td>\n",
       "      <td>06:20</td>\n",
       "      <td>Delhi</td>\n",
       "      <td>02h 20m</td>\n",
       "      <td>08:40</td>\n",
       "      <td>Mumbai</td>\n",
       "      <td>5,953</td>\n",
       "      <td>Economy</td>\n",
       "      <td>0</td>\n",
       "    </tr>\n",
       "    <tr>\n",
       "      <th>2</th>\n",
       "      <td>AirAsia</td>\n",
       "      <td>I5</td>\n",
       "      <td>764</td>\n",
       "      <td>04:25</td>\n",
       "      <td>Delhi</td>\n",
       "      <td>02h 10m</td>\n",
       "      <td>06:35</td>\n",
       "      <td>Mumbai</td>\n",
       "      <td>5,956</td>\n",
       "      <td>Economy</td>\n",
       "      <td>0</td>\n",
       "    </tr>\n",
       "    <tr>\n",
       "      <th>3</th>\n",
       "      <td>Vistara</td>\n",
       "      <td>UK</td>\n",
       "      <td>995</td>\n",
       "      <td>10:20</td>\n",
       "      <td>Delhi</td>\n",
       "      <td>02h 15m</td>\n",
       "      <td>12:35</td>\n",
       "      <td>Mumbai</td>\n",
       "      <td>5,955</td>\n",
       "      <td>Economy</td>\n",
       "      <td>0</td>\n",
       "    </tr>\n",
       "    <tr>\n",
       "      <th>4</th>\n",
       "      <td>Vistara</td>\n",
       "      <td>UK</td>\n",
       "      <td>963</td>\n",
       "      <td>08:50</td>\n",
       "      <td>Delhi</td>\n",
       "      <td>02h 20m</td>\n",
       "      <td>11:10</td>\n",
       "      <td>Mumbai</td>\n",
       "      <td>5,955</td>\n",
       "      <td>Economy</td>\n",
       "      <td>0</td>\n",
       "    </tr>\n",
       "  </tbody>\n",
       "</table>\n",
       "</div>"
      ],
      "text/plain": [
       "    airline ch_code  num_code dep_time   from time_taken arr_time      to  \\\n",
       "0  SpiceJet      SG      8709    18:55  Delhi    02h 10m    21:05  Mumbai   \n",
       "1  SpiceJet      SG      8157    06:20  Delhi    02h 20m    08:40  Mumbai   \n",
       "2   AirAsia      I5       764    04:25  Delhi    02h 10m    06:35  Mumbai   \n",
       "3   Vistara      UK       995    10:20  Delhi    02h 15m    12:35  Mumbai   \n",
       "4   Vistara      UK       963    08:50  Delhi    02h 20m    11:10  Mumbai   \n",
       "\n",
       "   price    class Number of Stops  \n",
       "0  5,953  Economy               0  \n",
       "1  5,953  Economy               0  \n",
       "2  5,956  Economy               0  \n",
       "3  5,955  Economy               0  \n",
       "4  5,955  Economy               0  "
      ]
     },
     "execution_count": 51,
     "metadata": {},
     "output_type": "execute_result"
    }
   ],
   "source": [
    "#load first few entries\n",
    "df.head()"
   ]
  },
  {
   "cell_type": "code",
   "execution_count": 52,
   "metadata": {
    "colab": {
     "base_uri": "https://localhost:8080/",
     "height": 206
    },
    "id": "Cou-j8gENa2r",
    "outputId": "5e588fe3-a127-4e56-ae21-6dc605aee736"
   },
   "outputs": [
    {
     "data": {
      "text/html": [
       "<div>\n",
       "<style scoped>\n",
       "    .dataframe tbody tr th:only-of-type {\n",
       "        vertical-align: middle;\n",
       "    }\n",
       "\n",
       "    .dataframe tbody tr th {\n",
       "        vertical-align: top;\n",
       "    }\n",
       "\n",
       "    .dataframe thead th {\n",
       "        text-align: right;\n",
       "    }\n",
       "</style>\n",
       "<table border=\"1\" class=\"dataframe\">\n",
       "  <thead>\n",
       "    <tr style=\"text-align: right;\">\n",
       "      <th></th>\n",
       "      <th>airline</th>\n",
       "      <th>ch_code</th>\n",
       "      <th>num_code</th>\n",
       "      <th>dep_time</th>\n",
       "      <th>from</th>\n",
       "      <th>time_taken</th>\n",
       "      <th>arr_time</th>\n",
       "      <th>to</th>\n",
       "      <th>price</th>\n",
       "      <th>class</th>\n",
       "      <th>Number of Stops</th>\n",
       "    </tr>\n",
       "  </thead>\n",
       "  <tbody>\n",
       "    <tr>\n",
       "      <th>300256</th>\n",
       "      <td>Vistara</td>\n",
       "      <td>UK</td>\n",
       "      <td>822</td>\n",
       "      <td>09:45</td>\n",
       "      <td>Chennai</td>\n",
       "      <td>10h 05m</td>\n",
       "      <td>19:50</td>\n",
       "      <td>Hyderabad</td>\n",
       "      <td>69,265</td>\n",
       "      <td>Business</td>\n",
       "      <td>1</td>\n",
       "    </tr>\n",
       "    <tr>\n",
       "      <th>300257</th>\n",
       "      <td>Vistara</td>\n",
       "      <td>UK</td>\n",
       "      <td>826</td>\n",
       "      <td>12:30</td>\n",
       "      <td>Chennai</td>\n",
       "      <td>10h 25m</td>\n",
       "      <td>22:55</td>\n",
       "      <td>Hyderabad</td>\n",
       "      <td>77,105</td>\n",
       "      <td>Business</td>\n",
       "      <td>1</td>\n",
       "    </tr>\n",
       "    <tr>\n",
       "      <th>300258</th>\n",
       "      <td>Vistara</td>\n",
       "      <td>UK</td>\n",
       "      <td>832</td>\n",
       "      <td>07:05</td>\n",
       "      <td>Chennai</td>\n",
       "      <td>13h 50m</td>\n",
       "      <td>20:55</td>\n",
       "      <td>Hyderabad</td>\n",
       "      <td>79,099</td>\n",
       "      <td>Business</td>\n",
       "      <td>1</td>\n",
       "    </tr>\n",
       "    <tr>\n",
       "      <th>300259</th>\n",
       "      <td>Vistara</td>\n",
       "      <td>UK</td>\n",
       "      <td>828</td>\n",
       "      <td>07:00</td>\n",
       "      <td>Chennai</td>\n",
       "      <td>10h 00m</td>\n",
       "      <td>17:00</td>\n",
       "      <td>Hyderabad</td>\n",
       "      <td>81,585</td>\n",
       "      <td>Business</td>\n",
       "      <td>1</td>\n",
       "    </tr>\n",
       "    <tr>\n",
       "      <th>300260</th>\n",
       "      <td>Vistara</td>\n",
       "      <td>UK</td>\n",
       "      <td>822</td>\n",
       "      <td>09:45</td>\n",
       "      <td>Chennai</td>\n",
       "      <td>10h 05m</td>\n",
       "      <td>19:50</td>\n",
       "      <td>Hyderabad</td>\n",
       "      <td>81,585</td>\n",
       "      <td>Business</td>\n",
       "      <td>1</td>\n",
       "    </tr>\n",
       "  </tbody>\n",
       "</table>\n",
       "</div>"
      ],
      "text/plain": [
       "        airline ch_code  num_code dep_time     from time_taken arr_time  \\\n",
       "300256  Vistara      UK       822    09:45  Chennai    10h 05m    19:50   \n",
       "300257  Vistara      UK       826    12:30  Chennai    10h 25m    22:55   \n",
       "300258  Vistara      UK       832    07:05  Chennai    13h 50m    20:55   \n",
       "300259  Vistara      UK       828    07:00  Chennai    10h 00m    17:00   \n",
       "300260  Vistara      UK       822    09:45  Chennai    10h 05m    19:50   \n",
       "\n",
       "               to   price     class Number of Stops  \n",
       "300256  Hyderabad  69,265  Business               1  \n",
       "300257  Hyderabad  77,105  Business               1  \n",
       "300258  Hyderabad  79,099  Business               1  \n",
       "300259  Hyderabad  81,585  Business               1  \n",
       "300260  Hyderabad  81,585  Business               1  "
      ]
     },
     "execution_count": 52,
     "metadata": {},
     "output_type": "execute_result"
    }
   ],
   "source": [
    "#load last few entries\n",
    "df.tail()"
   ]
  },
  {
   "cell_type": "code",
   "execution_count": 53,
   "metadata": {
    "colab": {
     "base_uri": "https://localhost:8080/"
    },
    "id": "kewxZZmiYjKo",
    "outputId": "dfdac3fd-361d-4a27-eeb0-447d3626db20"
   },
   "outputs": [
    {
     "name": "stdout",
     "output_type": "stream",
     "text": [
      "<class 'pandas.core.frame.DataFrame'>\n",
      "RangeIndex: 300261 entries, 0 to 300260\n",
      "Data columns (total 11 columns):\n",
      " #   Column           Non-Null Count   Dtype \n",
      "---  ------           --------------   ----- \n",
      " 0   airline          300261 non-null  object\n",
      " 1   ch_code          300261 non-null  object\n",
      " 2   num_code         300261 non-null  int64 \n",
      " 3   dep_time         300261 non-null  object\n",
      " 4   from             300261 non-null  object\n",
      " 5   time_taken       300261 non-null  object\n",
      " 6   arr_time         300261 non-null  object\n",
      " 7   to               300261 non-null  object\n",
      " 8   price            300261 non-null  object\n",
      " 9   class            300261 non-null  object\n",
      " 10  Number of Stops  300261 non-null  object\n",
      "dtypes: int64(1), object(10)\n",
      "memory usage: 25.2+ MB\n"
     ]
    }
   ],
   "source": [
    "#Printing the Information about the Data Frame\n",
    "df.info()"
   ]
  },
  {
   "cell_type": "code",
   "execution_count": 54,
   "metadata": {
    "colab": {
     "base_uri": "https://localhost:8080/",
     "height": 300
    },
    "id": "QvenuJIcbsjp",
    "outputId": "5c4951c3-51ba-4425-8c8c-691a3246d498"
   },
   "outputs": [
    {
     "data": {
      "text/html": [
       "<div>\n",
       "<style scoped>\n",
       "    .dataframe tbody tr th:only-of-type {\n",
       "        vertical-align: middle;\n",
       "    }\n",
       "\n",
       "    .dataframe tbody tr th {\n",
       "        vertical-align: top;\n",
       "    }\n",
       "\n",
       "    .dataframe thead th {\n",
       "        text-align: right;\n",
       "    }\n",
       "</style>\n",
       "<table border=\"1\" class=\"dataframe\">\n",
       "  <thead>\n",
       "    <tr style=\"text-align: right;\">\n",
       "      <th></th>\n",
       "      <th>num_code</th>\n",
       "    </tr>\n",
       "  </thead>\n",
       "  <tbody>\n",
       "    <tr>\n",
       "      <th>count</th>\n",
       "      <td>300261.000000</td>\n",
       "    </tr>\n",
       "    <tr>\n",
       "      <th>mean</th>\n",
       "      <td>1417.771709</td>\n",
       "    </tr>\n",
       "    <tr>\n",
       "      <th>std</th>\n",
       "      <td>1974.514439</td>\n",
       "    </tr>\n",
       "    <tr>\n",
       "      <th>min</th>\n",
       "      <td>101.000000</td>\n",
       "    </tr>\n",
       "    <tr>\n",
       "      <th>25%</th>\n",
       "      <td>637.000000</td>\n",
       "    </tr>\n",
       "    <tr>\n",
       "      <th>50%</th>\n",
       "      <td>818.000000</td>\n",
       "    </tr>\n",
       "    <tr>\n",
       "      <th>75%</th>\n",
       "      <td>927.000000</td>\n",
       "    </tr>\n",
       "    <tr>\n",
       "      <th>max</th>\n",
       "      <td>9991.000000</td>\n",
       "    </tr>\n",
       "  </tbody>\n",
       "</table>\n",
       "</div>"
      ],
      "text/plain": [
       "            num_code\n",
       "count  300261.000000\n",
       "mean     1417.771709\n",
       "std      1974.514439\n",
       "min       101.000000\n",
       "25%       637.000000\n",
       "50%       818.000000\n",
       "75%       927.000000\n",
       "max      9991.000000"
      ]
     },
     "execution_count": 54,
     "metadata": {},
     "output_type": "execute_result"
    }
   ],
   "source": [
    "#Describing the dataset\n",
    "df.describe()"
   ]
  },
  {
   "cell_type": "markdown",
   "metadata": {},
   "source": [
    "# DATA PREPROCESSING"
   ]
  },
  {
   "cell_type": "code",
   "execution_count": 55,
   "metadata": {
    "colab": {
     "base_uri": "https://localhost:8080/",
     "height": 206
    },
    "id": "NASyeX2dbdV8",
    "outputId": "db082445-4869-412b-a9a0-86e301151b2c"
   },
   "outputs": [
    {
     "data": {
      "text/html": [
       "<div>\n",
       "<style scoped>\n",
       "    .dataframe tbody tr th:only-of-type {\n",
       "        vertical-align: middle;\n",
       "    }\n",
       "\n",
       "    .dataframe tbody tr th {\n",
       "        vertical-align: top;\n",
       "    }\n",
       "\n",
       "    .dataframe thead th {\n",
       "        text-align: right;\n",
       "    }\n",
       "</style>\n",
       "<table border=\"1\" class=\"dataframe\">\n",
       "  <thead>\n",
       "    <tr style=\"text-align: right;\">\n",
       "      <th></th>\n",
       "      <th>AIRLINE</th>\n",
       "      <th>CH_CODE</th>\n",
       "      <th>NUM_CODE</th>\n",
       "      <th>DEP_TIME</th>\n",
       "      <th>FROM</th>\n",
       "      <th>TIME_TAKEN</th>\n",
       "      <th>ARR_TIME</th>\n",
       "      <th>TO</th>\n",
       "      <th>PRICE</th>\n",
       "      <th>CLASS</th>\n",
       "      <th>NUMBER_OF_STOPS</th>\n",
       "    </tr>\n",
       "  </thead>\n",
       "  <tbody>\n",
       "    <tr>\n",
       "      <th>0</th>\n",
       "      <td>SpiceJet</td>\n",
       "      <td>SG</td>\n",
       "      <td>8709</td>\n",
       "      <td>18:55</td>\n",
       "      <td>Delhi</td>\n",
       "      <td>02h 10m</td>\n",
       "      <td>21:05</td>\n",
       "      <td>Mumbai</td>\n",
       "      <td>5,953</td>\n",
       "      <td>Economy</td>\n",
       "      <td>0</td>\n",
       "    </tr>\n",
       "    <tr>\n",
       "      <th>1</th>\n",
       "      <td>SpiceJet</td>\n",
       "      <td>SG</td>\n",
       "      <td>8157</td>\n",
       "      <td>06:20</td>\n",
       "      <td>Delhi</td>\n",
       "      <td>02h 20m</td>\n",
       "      <td>08:40</td>\n",
       "      <td>Mumbai</td>\n",
       "      <td>5,953</td>\n",
       "      <td>Economy</td>\n",
       "      <td>0</td>\n",
       "    </tr>\n",
       "    <tr>\n",
       "      <th>2</th>\n",
       "      <td>AirAsia</td>\n",
       "      <td>I5</td>\n",
       "      <td>764</td>\n",
       "      <td>04:25</td>\n",
       "      <td>Delhi</td>\n",
       "      <td>02h 10m</td>\n",
       "      <td>06:35</td>\n",
       "      <td>Mumbai</td>\n",
       "      <td>5,956</td>\n",
       "      <td>Economy</td>\n",
       "      <td>0</td>\n",
       "    </tr>\n",
       "    <tr>\n",
       "      <th>3</th>\n",
       "      <td>Vistara</td>\n",
       "      <td>UK</td>\n",
       "      <td>995</td>\n",
       "      <td>10:20</td>\n",
       "      <td>Delhi</td>\n",
       "      <td>02h 15m</td>\n",
       "      <td>12:35</td>\n",
       "      <td>Mumbai</td>\n",
       "      <td>5,955</td>\n",
       "      <td>Economy</td>\n",
       "      <td>0</td>\n",
       "    </tr>\n",
       "    <tr>\n",
       "      <th>4</th>\n",
       "      <td>Vistara</td>\n",
       "      <td>UK</td>\n",
       "      <td>963</td>\n",
       "      <td>08:50</td>\n",
       "      <td>Delhi</td>\n",
       "      <td>02h 20m</td>\n",
       "      <td>11:10</td>\n",
       "      <td>Mumbai</td>\n",
       "      <td>5,955</td>\n",
       "      <td>Economy</td>\n",
       "      <td>0</td>\n",
       "    </tr>\n",
       "  </tbody>\n",
       "</table>\n",
       "</div>"
      ],
      "text/plain": [
       "    AIRLINE CH_CODE  NUM_CODE DEP_TIME   FROM TIME_TAKEN ARR_TIME      TO  \\\n",
       "0  SpiceJet      SG      8709    18:55  Delhi    02h 10m    21:05  Mumbai   \n",
       "1  SpiceJet      SG      8157    06:20  Delhi    02h 20m    08:40  Mumbai   \n",
       "2   AirAsia      I5       764    04:25  Delhi    02h 10m    06:35  Mumbai   \n",
       "3   Vistara      UK       995    10:20  Delhi    02h 15m    12:35  Mumbai   \n",
       "4   Vistara      UK       963    08:50  Delhi    02h 20m    11:10  Mumbai   \n",
       "\n",
       "   PRICE    CLASS NUMBER_OF_STOPS  \n",
       "0  5,953  Economy               0  \n",
       "1  5,953  Economy               0  \n",
       "2  5,956  Economy               0  \n",
       "3  5,955  Economy               0  \n",
       "4  5,955  Economy               0  "
      ]
     },
     "execution_count": 55,
     "metadata": {},
     "output_type": "execute_result"
    }
   ],
   "source": [
    "#Rename Columns\n",
    "df.rename(columns = {'airline':'AIRLINE','ch_code':'CH_CODE','num_code':'NUM_CODE','dep_time':'DEP_TIME','from':'FROM','time_taken':'TIME_TAKEN','arr_time':'ARR_TIME','to':'TO','price':'PRICE','class':'CLASS','Number of Stops':'NUMBER_OF_STOPS'}, inplace = True)\n",
    "df.head()"
   ]
  },
  {
   "cell_type": "code",
   "execution_count": 56,
   "metadata": {
    "colab": {
     "base_uri": "https://localhost:8080/",
     "height": 467
    },
    "id": "RdBx_tohbBdi",
    "outputId": "f99e1cf7-214c-4455-bc9d-4f8c4d22dd01"
   },
   "outputs": [
    {
     "data": {
      "text/html": [
       "<div>\n",
       "<style scoped>\n",
       "    .dataframe tbody tr th:only-of-type {\n",
       "        vertical-align: middle;\n",
       "    }\n",
       "\n",
       "    .dataframe tbody tr th {\n",
       "        vertical-align: top;\n",
       "    }\n",
       "\n",
       "    .dataframe thead th {\n",
       "        text-align: right;\n",
       "    }\n",
       "</style>\n",
       "<table border=\"1\" class=\"dataframe\">\n",
       "  <thead>\n",
       "    <tr style=\"text-align: right;\">\n",
       "      <th></th>\n",
       "      <th>AIRLINE</th>\n",
       "      <th>CH_CODE</th>\n",
       "      <th>NUM_CODE</th>\n",
       "      <th>DEP_TIME</th>\n",
       "      <th>FROM</th>\n",
       "      <th>TIME_TAKEN</th>\n",
       "      <th>ARR_TIME</th>\n",
       "      <th>TO</th>\n",
       "      <th>PRICE</th>\n",
       "      <th>CLASS</th>\n",
       "      <th>NUMBER_OF_STOPS</th>\n",
       "    </tr>\n",
       "  </thead>\n",
       "  <tbody>\n",
       "    <tr>\n",
       "      <th>0</th>\n",
       "      <td>SpiceJet</td>\n",
       "      <td>SG</td>\n",
       "      <td>8709</td>\n",
       "      <td>18:55</td>\n",
       "      <td>Delhi</td>\n",
       "      <td>02h 10m</td>\n",
       "      <td>21:05</td>\n",
       "      <td>Mumbai</td>\n",
       "      <td>5953</td>\n",
       "      <td>Economy</td>\n",
       "      <td>0</td>\n",
       "    </tr>\n",
       "    <tr>\n",
       "      <th>1</th>\n",
       "      <td>SpiceJet</td>\n",
       "      <td>SG</td>\n",
       "      <td>8157</td>\n",
       "      <td>06:20</td>\n",
       "      <td>Delhi</td>\n",
       "      <td>02h 20m</td>\n",
       "      <td>08:40</td>\n",
       "      <td>Mumbai</td>\n",
       "      <td>5953</td>\n",
       "      <td>Economy</td>\n",
       "      <td>0</td>\n",
       "    </tr>\n",
       "    <tr>\n",
       "      <th>2</th>\n",
       "      <td>AirAsia</td>\n",
       "      <td>I5</td>\n",
       "      <td>764</td>\n",
       "      <td>04:25</td>\n",
       "      <td>Delhi</td>\n",
       "      <td>02h 10m</td>\n",
       "      <td>06:35</td>\n",
       "      <td>Mumbai</td>\n",
       "      <td>5956</td>\n",
       "      <td>Economy</td>\n",
       "      <td>0</td>\n",
       "    </tr>\n",
       "    <tr>\n",
       "      <th>3</th>\n",
       "      <td>Vistara</td>\n",
       "      <td>UK</td>\n",
       "      <td>995</td>\n",
       "      <td>10:20</td>\n",
       "      <td>Delhi</td>\n",
       "      <td>02h 15m</td>\n",
       "      <td>12:35</td>\n",
       "      <td>Mumbai</td>\n",
       "      <td>5955</td>\n",
       "      <td>Economy</td>\n",
       "      <td>0</td>\n",
       "    </tr>\n",
       "    <tr>\n",
       "      <th>4</th>\n",
       "      <td>Vistara</td>\n",
       "      <td>UK</td>\n",
       "      <td>963</td>\n",
       "      <td>08:50</td>\n",
       "      <td>Delhi</td>\n",
       "      <td>02h 20m</td>\n",
       "      <td>11:10</td>\n",
       "      <td>Mumbai</td>\n",
       "      <td>5955</td>\n",
       "      <td>Economy</td>\n",
       "      <td>0</td>\n",
       "    </tr>\n",
       "    <tr>\n",
       "      <th>...</th>\n",
       "      <td>...</td>\n",
       "      <td>...</td>\n",
       "      <td>...</td>\n",
       "      <td>...</td>\n",
       "      <td>...</td>\n",
       "      <td>...</td>\n",
       "      <td>...</td>\n",
       "      <td>...</td>\n",
       "      <td>...</td>\n",
       "      <td>...</td>\n",
       "      <td>...</td>\n",
       "    </tr>\n",
       "    <tr>\n",
       "      <th>300256</th>\n",
       "      <td>Vistara</td>\n",
       "      <td>UK</td>\n",
       "      <td>822</td>\n",
       "      <td>09:45</td>\n",
       "      <td>Chennai</td>\n",
       "      <td>10h 05m</td>\n",
       "      <td>19:50</td>\n",
       "      <td>Hyderabad</td>\n",
       "      <td>69265</td>\n",
       "      <td>Business</td>\n",
       "      <td>1</td>\n",
       "    </tr>\n",
       "    <tr>\n",
       "      <th>300257</th>\n",
       "      <td>Vistara</td>\n",
       "      <td>UK</td>\n",
       "      <td>826</td>\n",
       "      <td>12:30</td>\n",
       "      <td>Chennai</td>\n",
       "      <td>10h 25m</td>\n",
       "      <td>22:55</td>\n",
       "      <td>Hyderabad</td>\n",
       "      <td>77105</td>\n",
       "      <td>Business</td>\n",
       "      <td>1</td>\n",
       "    </tr>\n",
       "    <tr>\n",
       "      <th>300258</th>\n",
       "      <td>Vistara</td>\n",
       "      <td>UK</td>\n",
       "      <td>832</td>\n",
       "      <td>07:05</td>\n",
       "      <td>Chennai</td>\n",
       "      <td>13h 50m</td>\n",
       "      <td>20:55</td>\n",
       "      <td>Hyderabad</td>\n",
       "      <td>79099</td>\n",
       "      <td>Business</td>\n",
       "      <td>1</td>\n",
       "    </tr>\n",
       "    <tr>\n",
       "      <th>300259</th>\n",
       "      <td>Vistara</td>\n",
       "      <td>UK</td>\n",
       "      <td>828</td>\n",
       "      <td>07:00</td>\n",
       "      <td>Chennai</td>\n",
       "      <td>10h 00m</td>\n",
       "      <td>17:00</td>\n",
       "      <td>Hyderabad</td>\n",
       "      <td>81585</td>\n",
       "      <td>Business</td>\n",
       "      <td>1</td>\n",
       "    </tr>\n",
       "    <tr>\n",
       "      <th>300260</th>\n",
       "      <td>Vistara</td>\n",
       "      <td>UK</td>\n",
       "      <td>822</td>\n",
       "      <td>09:45</td>\n",
       "      <td>Chennai</td>\n",
       "      <td>10h 05m</td>\n",
       "      <td>19:50</td>\n",
       "      <td>Hyderabad</td>\n",
       "      <td>81585</td>\n",
       "      <td>Business</td>\n",
       "      <td>1</td>\n",
       "    </tr>\n",
       "  </tbody>\n",
       "</table>\n",
       "<p>300261 rows × 11 columns</p>\n",
       "</div>"
      ],
      "text/plain": [
       "         AIRLINE CH_CODE  NUM_CODE DEP_TIME     FROM TIME_TAKEN ARR_TIME  \\\n",
       "0       SpiceJet      SG      8709    18:55    Delhi    02h 10m    21:05   \n",
       "1       SpiceJet      SG      8157    06:20    Delhi    02h 20m    08:40   \n",
       "2        AirAsia      I5       764    04:25    Delhi    02h 10m    06:35   \n",
       "3        Vistara      UK       995    10:20    Delhi    02h 15m    12:35   \n",
       "4        Vistara      UK       963    08:50    Delhi    02h 20m    11:10   \n",
       "...          ...     ...       ...      ...      ...        ...      ...   \n",
       "300256   Vistara      UK       822    09:45  Chennai    10h 05m    19:50   \n",
       "300257   Vistara      UK       826    12:30  Chennai    10h 25m    22:55   \n",
       "300258   Vistara      UK       832    07:05  Chennai    13h 50m    20:55   \n",
       "300259   Vistara      UK       828    07:00  Chennai    10h 00m    17:00   \n",
       "300260   Vistara      UK       822    09:45  Chennai    10h 05m    19:50   \n",
       "\n",
       "               TO  PRICE     CLASS NUMBER_OF_STOPS  \n",
       "0          Mumbai   5953   Economy               0  \n",
       "1          Mumbai   5953   Economy               0  \n",
       "2          Mumbai   5956   Economy               0  \n",
       "3          Mumbai   5955   Economy               0  \n",
       "4          Mumbai   5955   Economy               0  \n",
       "...           ...    ...       ...             ...  \n",
       "300256  Hyderabad  69265  Business               1  \n",
       "300257  Hyderabad  77105  Business               1  \n",
       "300258  Hyderabad  79099  Business               1  \n",
       "300259  Hyderabad  81585  Business               1  \n",
       "300260  Hyderabad  81585  Business               1  \n",
       "\n",
       "[300261 rows x 11 columns]"
      ]
     },
     "execution_count": 56,
     "metadata": {},
     "output_type": "execute_result"
    }
   ],
   "source": [
    "#Converting the Column PRICE from string to int after removing ','\n",
    "df[\"PRICE\"]=df[\"PRICE\"].str.replace(',','')\n",
    "df[\"PRICE\"]=df[\"PRICE\"].astype(int)\n",
    "df"
   ]
  },
  {
   "cell_type": "code",
   "execution_count": 57,
   "metadata": {
    "id": "glMRmyz0h36f"
   },
   "outputs": [],
   "source": [
    "#Converting the Column NUMBER_OF_STOPS from string to int \n",
    "df[\"NUMBER_OF_STOPS\"]=df[\"NUMBER_OF_STOPS\"].astype(int)"
   ]
  },
  {
   "cell_type": "code",
   "execution_count": 58,
   "metadata": {
    "colab": {
     "base_uri": "https://localhost:8080/"
    },
    "id": "epNN0yFcb9Ra",
    "outputId": "1ea05f8f-8371-4bb3-a560-837c294a53d5"
   },
   "outputs": [
    {
     "name": "stdout",
     "output_type": "stream",
     "text": [
      "<class 'pandas.core.frame.DataFrame'>\n",
      "RangeIndex: 300261 entries, 0 to 300260\n",
      "Data columns (total 11 columns):\n",
      " #   Column           Non-Null Count   Dtype \n",
      "---  ------           --------------   ----- \n",
      " 0   AIRLINE          300261 non-null  object\n",
      " 1   CH_CODE          300261 non-null  object\n",
      " 2   NUM_CODE         300261 non-null  int64 \n",
      " 3   DEP_TIME         300261 non-null  object\n",
      " 4   FROM             300261 non-null  object\n",
      " 5   TIME_TAKEN       300261 non-null  object\n",
      " 6   ARR_TIME         300261 non-null  object\n",
      " 7   TO               300261 non-null  object\n",
      " 8   PRICE            300261 non-null  int32 \n",
      " 9   CLASS            300261 non-null  object\n",
      " 10  NUMBER_OF_STOPS  300261 non-null  int32 \n",
      "dtypes: int32(2), int64(1), object(8)\n",
      "memory usage: 22.9+ MB\n"
     ]
    }
   ],
   "source": [
    "df.info()"
   ]
  },
  {
   "cell_type": "markdown",
   "metadata": {},
   "source": [
    "# HANDLING MISSING VALUES"
   ]
  },
  {
   "cell_type": "code",
   "execution_count": 59,
   "metadata": {
    "colab": {
     "base_uri": "https://localhost:8080/",
     "height": 505
    },
    "id": "I0BjF7DIlm8I",
    "outputId": "7abbbc06-2ec8-4939-e269-22d5d431c39a"
   },
   "outputs": [
    {
     "data": {
      "text/html": [
       "<div>\n",
       "<style scoped>\n",
       "    .dataframe tbody tr th:only-of-type {\n",
       "        vertical-align: middle;\n",
       "    }\n",
       "\n",
       "    .dataframe tbody tr th {\n",
       "        vertical-align: top;\n",
       "    }\n",
       "\n",
       "    .dataframe thead th {\n",
       "        text-align: right;\n",
       "    }\n",
       "</style>\n",
       "<table border=\"1\" class=\"dataframe\">\n",
       "  <thead>\n",
       "    <tr style=\"text-align: right;\">\n",
       "      <th></th>\n",
       "      <th>NUM_CODE</th>\n",
       "      <th>PRICE</th>\n",
       "      <th>NUMBER_OF_STOPS</th>\n",
       "      <th>AIRLINE_Air India</th>\n",
       "      <th>AIRLINE_AirAsia</th>\n",
       "      <th>AIRLINE_GO FIRST</th>\n",
       "      <th>AIRLINE_Indigo</th>\n",
       "      <th>AIRLINE_SpiceJet</th>\n",
       "      <th>AIRLINE_StarAir</th>\n",
       "      <th>AIRLINE_Trujet</th>\n",
       "      <th>...</th>\n",
       "      <th>ARR_TIME_23:55</th>\n",
       "      <th>ARR_TIME_23:59</th>\n",
       "      <th>TO_Bangalore</th>\n",
       "      <th>TO_Chennai</th>\n",
       "      <th>TO_Delhi</th>\n",
       "      <th>TO_Hyderabad</th>\n",
       "      <th>TO_Kolkata</th>\n",
       "      <th>TO_Mumbai</th>\n",
       "      <th>CLASS_Business</th>\n",
       "      <th>CLASS_Economy</th>\n",
       "    </tr>\n",
       "  </thead>\n",
       "  <tbody>\n",
       "    <tr>\n",
       "      <th>0</th>\n",
       "      <td>8709</td>\n",
       "      <td>5953</td>\n",
       "      <td>0</td>\n",
       "      <td>0</td>\n",
       "      <td>0</td>\n",
       "      <td>0</td>\n",
       "      <td>0</td>\n",
       "      <td>1</td>\n",
       "      <td>0</td>\n",
       "      <td>0</td>\n",
       "      <td>...</td>\n",
       "      <td>0</td>\n",
       "      <td>0</td>\n",
       "      <td>0</td>\n",
       "      <td>0</td>\n",
       "      <td>0</td>\n",
       "      <td>0</td>\n",
       "      <td>0</td>\n",
       "      <td>1</td>\n",
       "      <td>0</td>\n",
       "      <td>1</td>\n",
       "    </tr>\n",
       "    <tr>\n",
       "      <th>1</th>\n",
       "      <td>8157</td>\n",
       "      <td>5953</td>\n",
       "      <td>0</td>\n",
       "      <td>0</td>\n",
       "      <td>0</td>\n",
       "      <td>0</td>\n",
       "      <td>0</td>\n",
       "      <td>1</td>\n",
       "      <td>0</td>\n",
       "      <td>0</td>\n",
       "      <td>...</td>\n",
       "      <td>0</td>\n",
       "      <td>0</td>\n",
       "      <td>0</td>\n",
       "      <td>0</td>\n",
       "      <td>0</td>\n",
       "      <td>0</td>\n",
       "      <td>0</td>\n",
       "      <td>1</td>\n",
       "      <td>0</td>\n",
       "      <td>1</td>\n",
       "    </tr>\n",
       "    <tr>\n",
       "      <th>2</th>\n",
       "      <td>764</td>\n",
       "      <td>5956</td>\n",
       "      <td>0</td>\n",
       "      <td>0</td>\n",
       "      <td>1</td>\n",
       "      <td>0</td>\n",
       "      <td>0</td>\n",
       "      <td>0</td>\n",
       "      <td>0</td>\n",
       "      <td>0</td>\n",
       "      <td>...</td>\n",
       "      <td>0</td>\n",
       "      <td>0</td>\n",
       "      <td>0</td>\n",
       "      <td>0</td>\n",
       "      <td>0</td>\n",
       "      <td>0</td>\n",
       "      <td>0</td>\n",
       "      <td>1</td>\n",
       "      <td>0</td>\n",
       "      <td>1</td>\n",
       "    </tr>\n",
       "    <tr>\n",
       "      <th>3</th>\n",
       "      <td>995</td>\n",
       "      <td>5955</td>\n",
       "      <td>0</td>\n",
       "      <td>0</td>\n",
       "      <td>0</td>\n",
       "      <td>0</td>\n",
       "      <td>0</td>\n",
       "      <td>0</td>\n",
       "      <td>0</td>\n",
       "      <td>0</td>\n",
       "      <td>...</td>\n",
       "      <td>0</td>\n",
       "      <td>0</td>\n",
       "      <td>0</td>\n",
       "      <td>0</td>\n",
       "      <td>0</td>\n",
       "      <td>0</td>\n",
       "      <td>0</td>\n",
       "      <td>1</td>\n",
       "      <td>0</td>\n",
       "      <td>1</td>\n",
       "    </tr>\n",
       "    <tr>\n",
       "      <th>4</th>\n",
       "      <td>963</td>\n",
       "      <td>5955</td>\n",
       "      <td>0</td>\n",
       "      <td>0</td>\n",
       "      <td>0</td>\n",
       "      <td>0</td>\n",
       "      <td>0</td>\n",
       "      <td>0</td>\n",
       "      <td>0</td>\n",
       "      <td>0</td>\n",
       "      <td>...</td>\n",
       "      <td>0</td>\n",
       "      <td>0</td>\n",
       "      <td>0</td>\n",
       "      <td>0</td>\n",
       "      <td>0</td>\n",
       "      <td>0</td>\n",
       "      <td>0</td>\n",
       "      <td>1</td>\n",
       "      <td>0</td>\n",
       "      <td>1</td>\n",
       "    </tr>\n",
       "    <tr>\n",
       "      <th>...</th>\n",
       "      <td>...</td>\n",
       "      <td>...</td>\n",
       "      <td>...</td>\n",
       "      <td>...</td>\n",
       "      <td>...</td>\n",
       "      <td>...</td>\n",
       "      <td>...</td>\n",
       "      <td>...</td>\n",
       "      <td>...</td>\n",
       "      <td>...</td>\n",
       "      <td>...</td>\n",
       "      <td>...</td>\n",
       "      <td>...</td>\n",
       "      <td>...</td>\n",
       "      <td>...</td>\n",
       "      <td>...</td>\n",
       "      <td>...</td>\n",
       "      <td>...</td>\n",
       "      <td>...</td>\n",
       "      <td>...</td>\n",
       "      <td>...</td>\n",
       "    </tr>\n",
       "    <tr>\n",
       "      <th>300256</th>\n",
       "      <td>822</td>\n",
       "      <td>69265</td>\n",
       "      <td>1</td>\n",
       "      <td>0</td>\n",
       "      <td>0</td>\n",
       "      <td>0</td>\n",
       "      <td>0</td>\n",
       "      <td>0</td>\n",
       "      <td>0</td>\n",
       "      <td>0</td>\n",
       "      <td>...</td>\n",
       "      <td>0</td>\n",
       "      <td>0</td>\n",
       "      <td>0</td>\n",
       "      <td>0</td>\n",
       "      <td>0</td>\n",
       "      <td>1</td>\n",
       "      <td>0</td>\n",
       "      <td>0</td>\n",
       "      <td>1</td>\n",
       "      <td>0</td>\n",
       "    </tr>\n",
       "    <tr>\n",
       "      <th>300257</th>\n",
       "      <td>826</td>\n",
       "      <td>77105</td>\n",
       "      <td>1</td>\n",
       "      <td>0</td>\n",
       "      <td>0</td>\n",
       "      <td>0</td>\n",
       "      <td>0</td>\n",
       "      <td>0</td>\n",
       "      <td>0</td>\n",
       "      <td>0</td>\n",
       "      <td>...</td>\n",
       "      <td>0</td>\n",
       "      <td>0</td>\n",
       "      <td>0</td>\n",
       "      <td>0</td>\n",
       "      <td>0</td>\n",
       "      <td>1</td>\n",
       "      <td>0</td>\n",
       "      <td>0</td>\n",
       "      <td>1</td>\n",
       "      <td>0</td>\n",
       "    </tr>\n",
       "    <tr>\n",
       "      <th>300258</th>\n",
       "      <td>832</td>\n",
       "      <td>79099</td>\n",
       "      <td>1</td>\n",
       "      <td>0</td>\n",
       "      <td>0</td>\n",
       "      <td>0</td>\n",
       "      <td>0</td>\n",
       "      <td>0</td>\n",
       "      <td>0</td>\n",
       "      <td>0</td>\n",
       "      <td>...</td>\n",
       "      <td>0</td>\n",
       "      <td>0</td>\n",
       "      <td>0</td>\n",
       "      <td>0</td>\n",
       "      <td>0</td>\n",
       "      <td>1</td>\n",
       "      <td>0</td>\n",
       "      <td>0</td>\n",
       "      <td>1</td>\n",
       "      <td>0</td>\n",
       "    </tr>\n",
       "    <tr>\n",
       "      <th>300259</th>\n",
       "      <td>828</td>\n",
       "      <td>81585</td>\n",
       "      <td>1</td>\n",
       "      <td>0</td>\n",
       "      <td>0</td>\n",
       "      <td>0</td>\n",
       "      <td>0</td>\n",
       "      <td>0</td>\n",
       "      <td>0</td>\n",
       "      <td>0</td>\n",
       "      <td>...</td>\n",
       "      <td>0</td>\n",
       "      <td>0</td>\n",
       "      <td>0</td>\n",
       "      <td>0</td>\n",
       "      <td>0</td>\n",
       "      <td>1</td>\n",
       "      <td>0</td>\n",
       "      <td>0</td>\n",
       "      <td>1</td>\n",
       "      <td>0</td>\n",
       "    </tr>\n",
       "    <tr>\n",
       "      <th>300260</th>\n",
       "      <td>822</td>\n",
       "      <td>81585</td>\n",
       "      <td>1</td>\n",
       "      <td>0</td>\n",
       "      <td>0</td>\n",
       "      <td>0</td>\n",
       "      <td>0</td>\n",
       "      <td>0</td>\n",
       "      <td>0</td>\n",
       "      <td>0</td>\n",
       "      <td>...</td>\n",
       "      <td>0</td>\n",
       "      <td>0</td>\n",
       "      <td>0</td>\n",
       "      <td>0</td>\n",
       "      <td>0</td>\n",
       "      <td>1</td>\n",
       "      <td>0</td>\n",
       "      <td>0</td>\n",
       "      <td>1</td>\n",
       "      <td>0</td>\n",
       "    </tr>\n",
       "  </tbody>\n",
       "</table>\n",
       "<p>300261 rows × 1033 columns</p>\n",
       "</div>"
      ],
      "text/plain": [
       "        NUM_CODE  PRICE  NUMBER_OF_STOPS  AIRLINE_Air India  AIRLINE_AirAsia  \\\n",
       "0           8709   5953                0                  0                0   \n",
       "1           8157   5953                0                  0                0   \n",
       "2            764   5956                0                  0                1   \n",
       "3            995   5955                0                  0                0   \n",
       "4            963   5955                0                  0                0   \n",
       "...          ...    ...              ...                ...              ...   \n",
       "300256       822  69265                1                  0                0   \n",
       "300257       826  77105                1                  0                0   \n",
       "300258       832  79099                1                  0                0   \n",
       "300259       828  81585                1                  0                0   \n",
       "300260       822  81585                1                  0                0   \n",
       "\n",
       "        AIRLINE_GO FIRST  AIRLINE_Indigo  AIRLINE_SpiceJet  AIRLINE_StarAir  \\\n",
       "0                      0               0                 1                0   \n",
       "1                      0               0                 1                0   \n",
       "2                      0               0                 0                0   \n",
       "3                      0               0                 0                0   \n",
       "4                      0               0                 0                0   \n",
       "...                  ...             ...               ...              ...   \n",
       "300256                 0               0                 0                0   \n",
       "300257                 0               0                 0                0   \n",
       "300258                 0               0                 0                0   \n",
       "300259                 0               0                 0                0   \n",
       "300260                 0               0                 0                0   \n",
       "\n",
       "        AIRLINE_Trujet  ...  ARR_TIME_23:55  ARR_TIME_23:59  TO_Bangalore  \\\n",
       "0                    0  ...               0               0             0   \n",
       "1                    0  ...               0               0             0   \n",
       "2                    0  ...               0               0             0   \n",
       "3                    0  ...               0               0             0   \n",
       "4                    0  ...               0               0             0   \n",
       "...                ...  ...             ...             ...           ...   \n",
       "300256               0  ...               0               0             0   \n",
       "300257               0  ...               0               0             0   \n",
       "300258               0  ...               0               0             0   \n",
       "300259               0  ...               0               0             0   \n",
       "300260               0  ...               0               0             0   \n",
       "\n",
       "        TO_Chennai  TO_Delhi  TO_Hyderabad  TO_Kolkata  TO_Mumbai  \\\n",
       "0                0         0             0           0          1   \n",
       "1                0         0             0           0          1   \n",
       "2                0         0             0           0          1   \n",
       "3                0         0             0           0          1   \n",
       "4                0         0             0           0          1   \n",
       "...            ...       ...           ...         ...        ...   \n",
       "300256           0         0             1           0          0   \n",
       "300257           0         0             1           0          0   \n",
       "300258           0         0             1           0          0   \n",
       "300259           0         0             1           0          0   \n",
       "300260           0         0             1           0          0   \n",
       "\n",
       "        CLASS_Business  CLASS_Economy  \n",
       "0                    0              1  \n",
       "1                    0              1  \n",
       "2                    0              1  \n",
       "3                    0              1  \n",
       "4                    0              1  \n",
       "...                ...            ...  \n",
       "300256               1              0  \n",
       "300257               1              0  \n",
       "300258               1              0  \n",
       "300259               1              0  \n",
       "300260               1              0  \n",
       "\n",
       "[300261 rows x 1033 columns]"
      ]
     },
     "execution_count": 59,
     "metadata": {},
     "output_type": "execute_result"
    }
   ],
   "source": [
    "pd.get_dummies(df)"
   ]
  },
  {
   "cell_type": "code",
   "execution_count": 60,
   "metadata": {
    "colab": {
     "base_uri": "https://localhost:8080/"
    },
    "id": "lB2umy_Gl5Wq",
    "outputId": "8686da3e-7e89-42b0-efd7-bb7c846dd29d"
   },
   "outputs": [
    {
     "data": {
      "text/plain": [
       "AIRLINE            0\n",
       "CH_CODE            0\n",
       "NUM_CODE           0\n",
       "DEP_TIME           0\n",
       "FROM               0\n",
       "TIME_TAKEN         0\n",
       "ARR_TIME           0\n",
       "TO                 0\n",
       "PRICE              0\n",
       "CLASS              0\n",
       "NUMBER_OF_STOPS    0\n",
       "dtype: int64"
      ]
     },
     "execution_count": 60,
     "metadata": {},
     "output_type": "execute_result"
    }
   ],
   "source": [
    "df.isnull().sum()"
   ]
  },
  {
   "cell_type": "code",
   "execution_count": 61,
   "metadata": {
    "colab": {
     "base_uri": "https://localhost:8080/"
    },
    "id": "D5IhmghqmdAK",
    "outputId": "f6e411f4-f7c6-4160-e7bf-0393cfcb0957"
   },
   "outputs": [
    {
     "data": {
      "text/plain": [
       "AIRLINE            0\n",
       "CH_CODE            0\n",
       "NUM_CODE           0\n",
       "DEP_TIME           0\n",
       "FROM               0\n",
       "TIME_TAKEN         0\n",
       "ARR_TIME           0\n",
       "TO                 0\n",
       "PRICE              0\n",
       "CLASS              0\n",
       "NUMBER_OF_STOPS    0\n",
       "dtype: int64"
      ]
     },
     "execution_count": 61,
     "metadata": {},
     "output_type": "execute_result"
    }
   ],
   "source": [
    "#METHOD:1 DROP ALL ROWS WITH MISSING VALUE\n",
    "df1= pd.DataFrame(df)\n",
    "df1.dropna(inplace= True)\n",
    "df1.isnull().sum()"
   ]
  },
  {
   "cell_type": "code",
   "execution_count": 62,
   "metadata": {
    "colab": {
     "base_uri": "https://localhost:8080/"
    },
    "id": "nStIHvEcgQG4",
    "outputId": "624686ae-7475-4827-e55a-59c099eb355b"
   },
   "outputs": [
    {
     "data": {
      "text/plain": [
       "20883.717665630902"
      ]
     },
     "execution_count": 62,
     "metadata": {},
     "output_type": "execute_result"
    }
   ],
   "source": [
    "# METHOD:2 FILL MISSING VALUE WITH MEAN\n",
    "df2= pd.DataFrame(df)\n",
    "K1=df2['PRICE'].mean()\n",
    "K1"
   ]
  },
  {
   "cell_type": "code",
   "execution_count": 63,
   "metadata": {
    "colab": {
     "base_uri": "https://localhost:8080/"
    },
    "id": "1Ppz10XUgQSk",
    "outputId": "3cf110c9-931e-435b-bcb1-4cd4ba20c3ec"
   },
   "outputs": [
    {
     "data": {
      "text/plain": [
       "0      5953\n",
       "1      5953\n",
       "2      5956\n",
       "3      5955\n",
       "4      5955\n",
       "5      5955\n",
       "6      6060\n",
       "7      6060\n",
       "8      5954\n",
       "9      5954\n",
       "10     5954\n",
       "11     5954\n",
       "12     5955\n",
       "13     5955\n",
       "14     5955\n",
       "15     5955\n",
       "16     5955\n",
       "17     5955\n",
       "18     5949\n",
       "19     5949\n",
       "20     5954\n",
       "21     5954\n",
       "22     5954\n",
       "23     5955\n",
       "24     6165\n",
       "25     6690\n",
       "26     6585\n",
       "27     8869\n",
       "28    10260\n",
       "29    10470\n",
       "Name: PRICE, dtype: int32"
      ]
     },
     "execution_count": 63,
     "metadata": {},
     "output_type": "execute_result"
    }
   ],
   "source": [
    "#Replace missing value with the mean value\n",
    "df2['PRICE'].replace(np.NaN,20883).head(30)"
   ]
  },
  {
   "cell_type": "code",
   "execution_count": 64,
   "metadata": {
    "colab": {
     "base_uri": "https://localhost:8080/"
    },
    "id": "-CbBffq9gQjt",
    "outputId": "67fab6fd-47a2-4a42-f600-4c4688c37784"
   },
   "outputs": [
    {
     "data": {
      "text/plain": [
       "7425.0"
      ]
     },
     "execution_count": 64,
     "metadata": {},
     "output_type": "execute_result"
    }
   ],
   "source": [
    "# METHOD:3 FILL MISSING VALUE WITH MEDIAN\n",
    "df3= pd.DataFrame(df)\n",
    "K1=df2['PRICE'].median()\n",
    "K1"
   ]
  },
  {
   "cell_type": "code",
   "execution_count": 65,
   "metadata": {
    "colab": {
     "base_uri": "https://localhost:8080/"
    },
    "id": "ni72TuYlgRGd",
    "outputId": "0c63b8b9-a6ad-40b2-c99d-8ecdeae43f26"
   },
   "outputs": [
    {
     "data": {
      "text/plain": [
       "0      5953\n",
       "1      5953\n",
       "2      5956\n",
       "3      5955\n",
       "4      5955\n",
       "5      5955\n",
       "6      6060\n",
       "7      6060\n",
       "8      5954\n",
       "9      5954\n",
       "10     5954\n",
       "11     5954\n",
       "12     5955\n",
       "13     5955\n",
       "14     5955\n",
       "15     5955\n",
       "16     5955\n",
       "17     5955\n",
       "18     5949\n",
       "19     5949\n",
       "20     5954\n",
       "21     5954\n",
       "22     5954\n",
       "23     5955\n",
       "24     6165\n",
       "25     6690\n",
       "26     6585\n",
       "27     8869\n",
       "28    10260\n",
       "29    10470\n",
       "Name: PRICE, dtype: int32"
      ]
     },
     "execution_count": 65,
     "metadata": {},
     "output_type": "execute_result"
    }
   ],
   "source": [
    "#Replace missing value with the median value\n",
    "df3['PRICE'].replace(np.NaN,7425).head(30)"
   ]
  },
  {
   "cell_type": "code",
   "execution_count": 66,
   "metadata": {
    "colab": {
     "base_uri": "https://localhost:8080/"
    },
    "id": "FSzb1p9Vn3do",
    "outputId": "c5e52e73-2cd0-40fb-bc48-ac5f15c1ab42"
   },
   "outputs": [
    {
     "data": {
      "text/plain": [
       "0    54608\n",
       "Name: PRICE, dtype: int32"
      ]
     },
     "execution_count": 66,
     "metadata": {},
     "output_type": "execute_result"
    }
   ],
   "source": [
    "# METHOD:4 FILL MISSING VALUE WITH MODE\n",
    "#MODE\n",
    "df4= pd.DataFrame(df)\n",
    "K1=df4['PRICE'].mode()\n",
    "K1"
   ]
  },
  {
   "cell_type": "code",
   "execution_count": 67,
   "metadata": {
    "colab": {
     "base_uri": "https://localhost:8080/"
    },
    "id": "Ga2xE9jeo0KK",
    "outputId": "0f997866-b14e-4e4c-e64d-b791b7da91a0"
   },
   "outputs": [
    {
     "data": {
      "text/plain": [
       "0      5953\n",
       "1      5953\n",
       "2      5956\n",
       "3      5955\n",
       "4      5955\n",
       "5      5955\n",
       "6      6060\n",
       "7      6060\n",
       "8      5954\n",
       "9      5954\n",
       "10     5954\n",
       "11     5954\n",
       "12     5955\n",
       "13     5955\n",
       "14     5955\n",
       "15     5955\n",
       "16     5955\n",
       "17     5955\n",
       "18     5949\n",
       "19     5949\n",
       "20     5954\n",
       "21     5954\n",
       "22     5954\n",
       "23     5955\n",
       "24     6165\n",
       "25     6690\n",
       "26     6585\n",
       "27     8869\n",
       "28    10260\n",
       "29    10470\n",
       "Name: PRICE, dtype: int32"
      ]
     },
     "execution_count": 67,
     "metadata": {},
     "output_type": "execute_result"
    }
   ],
   "source": [
    "#Replace missing value with the mode value\n",
    "df4['PRICE'].replace(np.NaN,54608).head(30)"
   ]
  },
  {
   "cell_type": "code",
   "execution_count": 68,
   "metadata": {
    "colab": {
     "base_uri": "https://localhost:8080/",
     "height": 467
    },
    "id": "MoIMNHUFp_Wu",
    "outputId": "5e165d01-386c-4633-fbe7-f2d9226c81d1"
   },
   "outputs": [
    {
     "data": {
      "text/html": [
       "<div>\n",
       "<style scoped>\n",
       "    .dataframe tbody tr th:only-of-type {\n",
       "        vertical-align: middle;\n",
       "    }\n",
       "\n",
       "    .dataframe tbody tr th {\n",
       "        vertical-align: top;\n",
       "    }\n",
       "\n",
       "    .dataframe thead th {\n",
       "        text-align: right;\n",
       "    }\n",
       "</style>\n",
       "<table border=\"1\" class=\"dataframe\">\n",
       "  <thead>\n",
       "    <tr style=\"text-align: right;\">\n",
       "      <th></th>\n",
       "      <th>AIRLINE</th>\n",
       "      <th>CH_CODE</th>\n",
       "      <th>NUM_CODE</th>\n",
       "      <th>DEP_TIME</th>\n",
       "      <th>FROM</th>\n",
       "      <th>TIME_TAKEN</th>\n",
       "      <th>ARR_TIME</th>\n",
       "      <th>TO</th>\n",
       "      <th>PRICE</th>\n",
       "      <th>CLASS</th>\n",
       "      <th>NUMBER_OF_STOPS</th>\n",
       "    </tr>\n",
       "  </thead>\n",
       "  <tbody>\n",
       "    <tr>\n",
       "      <th>0</th>\n",
       "      <td>SpiceJet</td>\n",
       "      <td>SG</td>\n",
       "      <td>8709</td>\n",
       "      <td>18:55</td>\n",
       "      <td>Delhi</td>\n",
       "      <td>02h 10m</td>\n",
       "      <td>21:05</td>\n",
       "      <td>Mumbai</td>\n",
       "      <td>5953</td>\n",
       "      <td>Economy</td>\n",
       "      <td>0</td>\n",
       "    </tr>\n",
       "    <tr>\n",
       "      <th>1</th>\n",
       "      <td>SpiceJet</td>\n",
       "      <td>SG</td>\n",
       "      <td>8157</td>\n",
       "      <td>06:20</td>\n",
       "      <td>Delhi</td>\n",
       "      <td>02h 20m</td>\n",
       "      <td>08:40</td>\n",
       "      <td>Mumbai</td>\n",
       "      <td>5953</td>\n",
       "      <td>Economy</td>\n",
       "      <td>0</td>\n",
       "    </tr>\n",
       "    <tr>\n",
       "      <th>2</th>\n",
       "      <td>AirAsia</td>\n",
       "      <td>I5</td>\n",
       "      <td>764</td>\n",
       "      <td>04:25</td>\n",
       "      <td>Delhi</td>\n",
       "      <td>02h 10m</td>\n",
       "      <td>06:35</td>\n",
       "      <td>Mumbai</td>\n",
       "      <td>5956</td>\n",
       "      <td>Economy</td>\n",
       "      <td>0</td>\n",
       "    </tr>\n",
       "    <tr>\n",
       "      <th>3</th>\n",
       "      <td>Vistara</td>\n",
       "      <td>UK</td>\n",
       "      <td>995</td>\n",
       "      <td>10:20</td>\n",
       "      <td>Delhi</td>\n",
       "      <td>02h 15m</td>\n",
       "      <td>12:35</td>\n",
       "      <td>Mumbai</td>\n",
       "      <td>5955</td>\n",
       "      <td>Economy</td>\n",
       "      <td>0</td>\n",
       "    </tr>\n",
       "    <tr>\n",
       "      <th>4</th>\n",
       "      <td>Vistara</td>\n",
       "      <td>UK</td>\n",
       "      <td>963</td>\n",
       "      <td>08:50</td>\n",
       "      <td>Delhi</td>\n",
       "      <td>02h 20m</td>\n",
       "      <td>11:10</td>\n",
       "      <td>Mumbai</td>\n",
       "      <td>5955</td>\n",
       "      <td>Economy</td>\n",
       "      <td>0</td>\n",
       "    </tr>\n",
       "    <tr>\n",
       "      <th>...</th>\n",
       "      <td>...</td>\n",
       "      <td>...</td>\n",
       "      <td>...</td>\n",
       "      <td>...</td>\n",
       "      <td>...</td>\n",
       "      <td>...</td>\n",
       "      <td>...</td>\n",
       "      <td>...</td>\n",
       "      <td>...</td>\n",
       "      <td>...</td>\n",
       "      <td>...</td>\n",
       "    </tr>\n",
       "    <tr>\n",
       "      <th>300256</th>\n",
       "      <td>Vistara</td>\n",
       "      <td>UK</td>\n",
       "      <td>822</td>\n",
       "      <td>09:45</td>\n",
       "      <td>Chennai</td>\n",
       "      <td>10h 05m</td>\n",
       "      <td>19:50</td>\n",
       "      <td>Hyderabad</td>\n",
       "      <td>69265</td>\n",
       "      <td>Business</td>\n",
       "      <td>1</td>\n",
       "    </tr>\n",
       "    <tr>\n",
       "      <th>300257</th>\n",
       "      <td>Vistara</td>\n",
       "      <td>UK</td>\n",
       "      <td>826</td>\n",
       "      <td>12:30</td>\n",
       "      <td>Chennai</td>\n",
       "      <td>10h 25m</td>\n",
       "      <td>22:55</td>\n",
       "      <td>Hyderabad</td>\n",
       "      <td>77105</td>\n",
       "      <td>Business</td>\n",
       "      <td>1</td>\n",
       "    </tr>\n",
       "    <tr>\n",
       "      <th>300258</th>\n",
       "      <td>Vistara</td>\n",
       "      <td>UK</td>\n",
       "      <td>832</td>\n",
       "      <td>07:05</td>\n",
       "      <td>Chennai</td>\n",
       "      <td>13h 50m</td>\n",
       "      <td>20:55</td>\n",
       "      <td>Hyderabad</td>\n",
       "      <td>79099</td>\n",
       "      <td>Business</td>\n",
       "      <td>1</td>\n",
       "    </tr>\n",
       "    <tr>\n",
       "      <th>300259</th>\n",
       "      <td>Vistara</td>\n",
       "      <td>UK</td>\n",
       "      <td>828</td>\n",
       "      <td>07:00</td>\n",
       "      <td>Chennai</td>\n",
       "      <td>10h 00m</td>\n",
       "      <td>17:00</td>\n",
       "      <td>Hyderabad</td>\n",
       "      <td>81585</td>\n",
       "      <td>Business</td>\n",
       "      <td>1</td>\n",
       "    </tr>\n",
       "    <tr>\n",
       "      <th>300260</th>\n",
       "      <td>Vistara</td>\n",
       "      <td>UK</td>\n",
       "      <td>822</td>\n",
       "      <td>09:45</td>\n",
       "      <td>Chennai</td>\n",
       "      <td>10h 05m</td>\n",
       "      <td>19:50</td>\n",
       "      <td>Hyderabad</td>\n",
       "      <td>81585</td>\n",
       "      <td>Business</td>\n",
       "      <td>1</td>\n",
       "    </tr>\n",
       "  </tbody>\n",
       "</table>\n",
       "<p>300261 rows × 11 columns</p>\n",
       "</div>"
      ],
      "text/plain": [
       "         AIRLINE CH_CODE  NUM_CODE DEP_TIME     FROM TIME_TAKEN ARR_TIME  \\\n",
       "0       SpiceJet      SG      8709    18:55    Delhi    02h 10m    21:05   \n",
       "1       SpiceJet      SG      8157    06:20    Delhi    02h 20m    08:40   \n",
       "2        AirAsia      I5       764    04:25    Delhi    02h 10m    06:35   \n",
       "3        Vistara      UK       995    10:20    Delhi    02h 15m    12:35   \n",
       "4        Vistara      UK       963    08:50    Delhi    02h 20m    11:10   \n",
       "...          ...     ...       ...      ...      ...        ...      ...   \n",
       "300256   Vistara      UK       822    09:45  Chennai    10h 05m    19:50   \n",
       "300257   Vistara      UK       826    12:30  Chennai    10h 25m    22:55   \n",
       "300258   Vistara      UK       832    07:05  Chennai    13h 50m    20:55   \n",
       "300259   Vistara      UK       828    07:00  Chennai    10h 00m    17:00   \n",
       "300260   Vistara      UK       822    09:45  Chennai    10h 05m    19:50   \n",
       "\n",
       "               TO  PRICE     CLASS  NUMBER_OF_STOPS  \n",
       "0          Mumbai   5953   Economy                0  \n",
       "1          Mumbai   5953   Economy                0  \n",
       "2          Mumbai   5956   Economy                0  \n",
       "3          Mumbai   5955   Economy                0  \n",
       "4          Mumbai   5955   Economy                0  \n",
       "...           ...    ...       ...              ...  \n",
       "300256  Hyderabad  69265  Business                1  \n",
       "300257  Hyderabad  77105  Business                1  \n",
       "300258  Hyderabad  79099  Business                1  \n",
       "300259  Hyderabad  81585  Business                1  \n",
       "300260  Hyderabad  81585  Business                1  \n",
       "\n",
       "[300261 rows x 11 columns]"
      ]
     },
     "execution_count": 68,
     "metadata": {},
     "output_type": "execute_result"
    }
   ],
   "source": [
    "#FINAL DATAFRAME AFTER HANDLING MISSING VALUES\n",
    "df"
   ]
  },
  {
   "cell_type": "markdown",
   "metadata": {},
   "source": [
    "# DATA VISUALIZATION"
   ]
  },
  {
   "cell_type": "markdown",
   "metadata": {},
   "source": [
    "## Univariate Analysis"
   ]
  },
  {
   "cell_type": "code",
   "execution_count": 69,
   "metadata": {
    "colab": {
     "base_uri": "https://localhost:8080/",
     "height": 642
    },
    "id": "k1CNgF4HTZ-g",
    "outputId": "b8c0975b-6945-48d2-f3c4-0b14e568ee0c"
   },
   "outputs": [
    {
     "name": "stdout",
     "output_type": "stream",
     "text": [
      "VISTARA  127859\n",
      "AIR-INDIA 80894\n",
      "INDIGO 43120\n",
      "GO-FIRST 23177\n",
      "AIR-ASIA 16098\n",
      "SPICEJET 9011\n",
      "STARAIR 61\n",
      "TRUJET 41\n"
     ]
    },
    {
     "data": {
      "image/png": "[encoded data removed]",
      "text/plain": [
       "<Figure size 640x480 with 1 Axes>"
      ]
     },
     "metadata": {},
     "output_type": "display_data"
    }
   ],
   "source": [
    "#BAR PLOT FOR EACH COLUMN\n",
    "#AIRLINE\n",
    "targ_cnt=df.AIRLINE.value_counts()\n",
    "print('VISTARA ',targ_cnt[0])\n",
    "print('AIR-INDIA',targ_cnt[1])\n",
    "print('INDIGO',targ_cnt[2])\n",
    "print('GO-FIRST',targ_cnt[3])\n",
    "print('AIR-ASIA',targ_cnt[4])\n",
    "print('SPICEJET',targ_cnt[5])\n",
    "print('STARAIR',targ_cnt[6])\n",
    "print('TRUJET',targ_cnt[7])\n",
    "targ_cnt.plot(kind='bar',title='Count(AIRLINE)')\n",
    "plt.show()"
   ]
  },
  {
   "cell_type": "code",
   "execution_count": 70,
   "metadata": {
    "colab": {
     "base_uri": "https://localhost:8080/",
     "height": 597
    },
    "id": "mV01YoFWVNn3",
    "outputId": "e99d5788-36b4-4595-8ef9-4d24f27df937"
   },
   "outputs": [
    {
     "name": "stdout",
     "output_type": "stream",
     "text": [
      "UK 127859\n",
      "AI 80894\n",
      "6E 43120\n",
      "G8 23177\n",
      "I5 16098\n",
      "SG 9011\n",
      "S5 61\n",
      "2T 41\n"
     ]
    },
    {
     "data": {
      "image/png": "[encoded data removed]",
      "text/plain": [
       "<Figure size 640x480 with 1 Axes>"
      ]
     },
     "metadata": {},
     "output_type": "display_data"
    }
   ],
   "source": [
    "#CH_CODE\n",
    "targ_cnt=df.CH_CODE.value_counts()\n",
    "print('UK',targ_cnt[0])\n",
    "print('AI',targ_cnt[1])\n",
    "print('6E',targ_cnt[2])\n",
    "print('G8',targ_cnt[3])\n",
    "print('I5',targ_cnt[4])\n",
    "print('SG',targ_cnt[5])\n",
    "print('S5',targ_cnt[6])\n",
    "print('2T',targ_cnt[7])\n",
    "targ_cnt.plot(kind='bar',title='Count(CH_CODE)')\n",
    "plt.show()"
   ]
  },
  {
   "cell_type": "code",
   "execution_count": 71,
   "metadata": {
    "colab": {
     "base_uri": "https://localhost:8080/",
     "height": 537
    },
    "id": "actyJHLZVN1E",
    "outputId": "b7109c56-0dfd-4f13-a983-421c80fbb6c4"
   },
   "outputs": [
    {
     "name": "stdout",
     "output_type": "stream",
     "text": [
      "ECONOMY 206774\n",
      "BUSINESS 93487\n"
     ]
    },
    {
     "data": {
      "image/png": "[encoded data removed]",
      "text/plain": [
       "<Figure size 640x480 with 1 Axes>"
      ]
     },
     "metadata": {},
     "output_type": "display_data"
    }
   ],
   "source": [
    "#CLASS\n",
    "targ_cnt=df.CLASS.value_counts()\n",
    "print('ECONOMY',targ_cnt[0])\n",
    "print('BUSINESS',targ_cnt[1])\n",
    "targ_cnt.plot(kind='bar',title='Count(CLASS)')\n",
    "plt.show()"
   ]
  },
  {
   "cell_type": "code",
   "execution_count": 72,
   "metadata": {
    "colab": {
     "base_uri": "https://localhost:8080/",
     "height": 619
    },
    "id": "EHVlQdUvVOAb",
    "outputId": "567b83d6-e331-4672-d67a-2fbcfe730f8c"
   },
   "outputs": [
    {
     "name": "stdout",
     "output_type": "stream",
     "text": [
      "DELHI 61345\n",
      "MUMBAI 60903\n",
      "BANGALORE 52106\n",
      "KOLKATA 46347\n",
      "HYDERABAD 40860\n",
      "CHENNAI 38700\n"
     ]
    },
    {
     "data": {
      "image/png": "[encoded data removed]",
      "text/plain": [
       "<Figure size 640x480 with 1 Axes>"
      ]
     },
     "metadata": {},
     "output_type": "display_data"
    }
   ],
   "source": [
    "#FROM\n",
    "targ_cnt=df.FROM.value_counts()\n",
    "print('DELHI',targ_cnt[0])\n",
    "print('MUMBAI',targ_cnt[1])\n",
    "print('BANGALORE',targ_cnt[2])\n",
    "print('KOLKATA',targ_cnt[3])\n",
    "print('HYDERABAD',targ_cnt[4])\n",
    "print('CHENNAI',targ_cnt[5])\n",
    "targ_cnt.plot(kind='bar',title='Count(FROM)')\n",
    "plt.show()"
   ]
  },
  {
   "cell_type": "code",
   "execution_count": 73,
   "metadata": {
    "colab": {
     "base_uri": "https://localhost:8080/",
     "height": 619
    },
    "id": "hw649hNKVOKC",
    "outputId": "02b356a3-57ae-459f-a9a1-22210bfc5f11"
   },
   "outputs": [
    {
     "name": "stdout",
     "output_type": "stream",
     "text": [
      "MUMBAI 59109\n",
      "DELHI 57361\n",
      "BANGALORE 51112\n",
      "KOLKATA 49535\n",
      "HYDERABAD 42776\n",
      "CHENNAI 40368\n"
     ]
    },
    {
     "data": {
      "image/png": "[encoded data removed]",
      "text/plain": [
       "<Figure size 640x480 with 1 Axes>"
      ]
     },
     "metadata": {},
     "output_type": "display_data"
    }
   ],
   "source": [
    "#TO\n",
    "targ_cnt=df.TO.value_counts()\n",
    "print('MUMBAI',targ_cnt[0])\n",
    "print('DELHI',targ_cnt[1])\n",
    "print('BANGALORE',targ_cnt[2])\n",
    "print('KOLKATA',targ_cnt[3])\n",
    "print('HYDERABAD',targ_cnt[4])\n",
    "print('CHENNAI',targ_cnt[5])\n",
    "targ_cnt.plot(kind='bar',title='Count(TO)')\n",
    "plt.show()"
   ]
  },
  {
   "cell_type": "code",
   "execution_count": 74,
   "metadata": {
    "colab": {
     "base_uri": "https://localhost:8080/",
     "height": 499
    },
    "id": "OHa7KAGYYWtB",
    "outputId": "285b8e5d-7648-4c96-f9c3-d5bb2bf6fdf2"
   },
   "outputs": [
    {
     "name": "stdout",
     "output_type": "stream",
     "text": [
      "0 36044\n",
      "1 250929\n",
      "2 13288\n"
     ]
    },
    {
     "data": {
      "image/png": "[encoded data removed]",
      "text/plain": [
       "<Figure size 640x480 with 1 Axes>"
      ]
     },
     "metadata": {},
     "output_type": "display_data"
    }
   ],
   "source": [
    "#NUMBER_OF_STOPS\n",
    "targ_cnt=df.NUMBER_OF_STOPS.value_counts()\n",
    "print('0',targ_cnt[0])\n",
    "print('1',targ_cnt[1])\n",
    "print('2',targ_cnt[2])\n",
    "targ_cnt.plot(kind='bar',title='Count(NUMBER_OF_STOPS)')\n",
    "plt.show()"
   ]
  },
  {
   "cell_type": "code",
   "execution_count": 75,
   "metadata": {
    "colab": {
     "base_uri": "https://localhost:8080/",
     "height": 466
    },
    "id": "LvLqo36hXKIn",
    "outputId": "2583ad43-1722-47db-eb3e-d393988f797e"
   },
   "outputs": [
    {
     "data": {
      "text/plain": [
       "<AxesSubplot:xlabel='AIRLINE', ylabel='Count'>"
      ]
     },
     "execution_count": 75,
     "metadata": {},
     "output_type": "execute_result"
    },
    {
     "data": {
      "image/png": "[encoded data removed]",
      "text/plain": [
       "<Figure size 640x480 with 1 Axes>"
      ]
     },
     "metadata": {},
     "output_type": "display_data"
    }
   ],
   "source": [
    "#Histogram for each column\n",
    "#AIRLINE\n",
    "sns.histplot(df.AIRLINE,kde=True)"
   ]
  },
  {
   "cell_type": "code",
   "execution_count": 76,
   "metadata": {
    "colab": {
     "base_uri": "https://localhost:8080/",
     "height": 466
    },
    "id": "4du3BUgWXKTy",
    "outputId": "31efeddc-d61f-4f27-b587-f277948674fb"
   },
   "outputs": [
    {
     "data": {
      "text/plain": [
       "<AxesSubplot:xlabel='NUM_CODE', ylabel='Count'>"
      ]
     },
     "execution_count": 76,
     "metadata": {},
     "output_type": "execute_result"
    },
    {
     "data": {
      "image/png": "[encoded data removed]",
      "text/plain": [
       "<Figure size 640x480 with 1 Axes>"
      ]
     },
     "metadata": {},
     "output_type": "display_data"
    }
   ],
   "source": [
    "#NUM_CODE\n",
    "sns.histplot(df.NUM_CODE,kde=True)"
   ]
  },
  {
   "cell_type": "code",
   "execution_count": 77,
   "metadata": {
    "colab": {
     "base_uri": "https://localhost:8080/",
     "height": 466
    },
    "id": "rpRMc5qyXKpa",
    "outputId": "538e37ed-0220-4735-d11b-433af4f0d406"
   },
   "outputs": [
    {
     "data": {
      "text/plain": [
       "<AxesSubplot:xlabel='FROM', ylabel='Count'>"
      ]
     },
     "execution_count": 77,
     "metadata": {},
     "output_type": "execute_result"
    },
    {
     "data": {
      "image/png": "[encoded data removed]",
      "text/plain": [
       "<Figure size 640x480 with 1 Axes>"
      ]
     },
     "metadata": {},
     "output_type": "display_data"
    }
   ],
   "source": [
    "#FROM\n",
    "sns.histplot(df.FROM,kde=True)"
   ]
  },
  {
   "cell_type": "code",
   "execution_count": 78,
   "metadata": {
    "colab": {
     "base_uri": "https://localhost:8080/",
     "height": 466
    },
    "id": "YLMRYPyHXKxc",
    "outputId": "8a7cb4fe-96c6-4dbd-ff56-e4ad8b6f35a5"
   },
   "outputs": [
    {
     "data": {
      "text/plain": [
       "<AxesSubplot:xlabel='TIME_TAKEN', ylabel='Count'>"
      ]
     },
     "execution_count": 78,
     "metadata": {},
     "output_type": "execute_result"
    },
    {
     "data": {
      "image/png": "[encoded data removed]",
      "text/plain": [
       "<Figure size 640x480 with 1 Axes>"
      ]
     },
     "metadata": {},
     "output_type": "display_data"
    }
   ],
   "source": [
    "#TIME_TAKEN\n",
    "sns.histplot(df.TIME_TAKEN,kde=True)"
   ]
  },
  {
   "cell_type": "code",
   "execution_count": 79,
   "metadata": {
    "colab": {
     "base_uri": "https://localhost:8080/",
     "height": 482
    },
    "id": "0kjZuitZXxOH",
    "outputId": "709a889b-3c85-45a8-e888-156657b004b3"
   },
   "outputs": [
    {
     "data": {
      "text/plain": [
       "<AxesSubplot:xlabel='CLASS', ylabel='Count'>"
      ]
     },
     "execution_count": 79,
     "metadata": {},
     "output_type": "execute_result"
    },
    {
     "data": {
      "image/png": "[encoded data removed]",
      "text/plain": [
       "<Figure size 640x480 with 1 Axes>"
      ]
     },
     "metadata": {},
     "output_type": "display_data"
    }
   ],
   "source": [
    "#CLASS\n",
    "sns.histplot(df.CLASS,kde=True)"
   ]
  },
  {
   "cell_type": "code",
   "execution_count": 80,
   "metadata": {
    "colab": {
     "base_uri": "https://localhost:8080/",
     "height": 466
    },
    "id": "Lq4q-YupXxbE",
    "outputId": "5e1d7bae-ced4-456d-e7c2-99422ae8b066"
   },
   "outputs": [
    {
     "data": {
      "text/plain": [
       "<AxesSubplot:xlabel='PRICE', ylabel='Count'>"
      ]
     },
     "execution_count": 80,
     "metadata": {},
     "output_type": "execute_result"
    },
    {
     "data": {
      "image/png": "[encoded data removed]",
      "text/plain": [
       "<Figure size 640x480 with 1 Axes>"
      ]
     },
     "metadata": {},
     "output_type": "display_data"
    }
   ],
   "source": [
    "#Histogram for PRICE\n",
    "sns.histplot(df.PRICE,kde=True)"
   ]
  },
  {
   "cell_type": "markdown",
   "metadata": {},
   "source": [
    "## Bivariate Analysis"
   ]
  },
  {
   "cell_type": "code",
   "execution_count": 81,
   "metadata": {
    "colab": {
     "base_uri": "https://localhost:8080/",
     "height": 112
    },
    "id": "F5sndA6mg_Bj",
    "outputId": "d2f4a5a5-ecd3-45b4-eb4e-4db7356a55c1"
   },
   "outputs": [
    {
     "data": {
      "text/html": [
       "<div>\n",
       "<style scoped>\n",
       "    .dataframe tbody tr th:only-of-type {\n",
       "        vertical-align: middle;\n",
       "    }\n",
       "\n",
       "    .dataframe tbody tr th {\n",
       "        vertical-align: top;\n",
       "    }\n",
       "\n",
       "    .dataframe thead th {\n",
       "        text-align: right;\n",
       "    }\n",
       "</style>\n",
       "<table border=\"1\" class=\"dataframe\">\n",
       "  <thead>\n",
       "    <tr style=\"text-align: right;\">\n",
       "      <th></th>\n",
       "      <th>PRICE</th>\n",
       "      <th>NUMBER_OF_STOPS</th>\n",
       "    </tr>\n",
       "  </thead>\n",
       "  <tbody>\n",
       "    <tr>\n",
       "      <th>PRICE</th>\n",
       "      <td>1.000000</td>\n",
       "      <td>0.119798</td>\n",
       "    </tr>\n",
       "    <tr>\n",
       "      <th>NUMBER_OF_STOPS</th>\n",
       "      <td>0.119798</td>\n",
       "      <td>1.000000</td>\n",
       "    </tr>\n",
       "  </tbody>\n",
       "</table>\n",
       "</div>"
      ],
      "text/plain": [
       "                    PRICE  NUMBER_OF_STOPS\n",
       "PRICE            1.000000         0.119798\n",
       "NUMBER_OF_STOPS  0.119798         1.000000"
      ]
     },
     "execution_count": 81,
     "metadata": {},
     "output_type": "execute_result"
    }
   ],
   "source": [
    "#Finding Correlation among Numerical Data\n",
    "df[['PRICE','NUMBER_OF_STOPS']].corr()"
   ]
  },
  {
   "cell_type": "code",
   "execution_count": 82,
   "metadata": {
    "colab": {
     "base_uri": "https://localhost:8080/",
     "height": 386
    },
    "id": "mj7NoBD_iq-u",
    "outputId": "8ccf6ce2-0d03-4d48-9bac-63a7c26cbd12"
   },
   "outputs": [
    {
     "data": {
      "text/html": [
       "<div>\n",
       "<style scoped>\n",
       "    .dataframe tbody tr th:only-of-type {\n",
       "        vertical-align: middle;\n",
       "    }\n",
       "\n",
       "    .dataframe tbody tr th {\n",
       "        vertical-align: top;\n",
       "    }\n",
       "\n",
       "    .dataframe thead th {\n",
       "        text-align: right;\n",
       "    }\n",
       "</style>\n",
       "<table border=\"1\" class=\"dataframe\">\n",
       "  <thead>\n",
       "    <tr style=\"text-align: right;\">\n",
       "      <th></th>\n",
       "      <th>PRICE</th>\n",
       "    </tr>\n",
       "    <tr>\n",
       "      <th>AIRLINE</th>\n",
       "      <th></th>\n",
       "    </tr>\n",
       "  </thead>\n",
       "  <tbody>\n",
       "    <tr>\n",
       "      <th>Air India</th>\n",
       "      <td>23506.647217</td>\n",
       "    </tr>\n",
       "    <tr>\n",
       "      <th>AirAsia</th>\n",
       "      <td>4091.072742</td>\n",
       "    </tr>\n",
       "    <tr>\n",
       "      <th>GO FIRST</th>\n",
       "      <td>5651.930578</td>\n",
       "    </tr>\n",
       "    <tr>\n",
       "      <th>Indigo</th>\n",
       "      <td>5324.216303</td>\n",
       "    </tr>\n",
       "    <tr>\n",
       "      <th>SpiceJet</th>\n",
       "      <td>6179.278881</td>\n",
       "    </tr>\n",
       "    <tr>\n",
       "      <th>StarAir</th>\n",
       "      <td>4932.655738</td>\n",
       "    </tr>\n",
       "    <tr>\n",
       "      <th>Trujet</th>\n",
       "      <td>3244.634146</td>\n",
       "    </tr>\n",
       "    <tr>\n",
       "      <th>Vistara</th>\n",
       "      <td>30396.536302</td>\n",
       "    </tr>\n",
       "  </tbody>\n",
       "</table>\n",
       "</div>"
      ],
      "text/plain": [
       "                  PRICE\n",
       "AIRLINE                \n",
       "Air India  23506.647217\n",
       "AirAsia     4091.072742\n",
       "GO FIRST    5651.930578\n",
       "Indigo      5324.216303\n",
       "SpiceJet    6179.278881\n",
       "StarAir     4932.655738\n",
       "Trujet      3244.634146\n",
       "Vistara    30396.536302"
      ]
     },
     "execution_count": 82,
     "metadata": {},
     "output_type": "execute_result"
    }
   ],
   "source": [
    "#Bi-variate analysis between one categorical numerical data\n",
    "#AIRLINE AND PRICE\n",
    "df.groupby(by=\"AIRLINE\").agg(\"mean\")[['PRICE']]"
   ]
  },
  {
   "cell_type": "code",
   "execution_count": 83,
   "metadata": {
    "colab": {
     "base_uri": "https://localhost:8080/",
     "height": 323
    },
    "id": "S298egtAjB1u",
    "outputId": "ec849bf8-3cdd-4664-86ae-7d7707cc88cc"
   },
   "outputs": [
    {
     "data": {
      "text/html": [
       "<div>\n",
       "<style scoped>\n",
       "    .dataframe tbody tr th:only-of-type {\n",
       "        vertical-align: middle;\n",
       "    }\n",
       "\n",
       "    .dataframe tbody tr th {\n",
       "        vertical-align: top;\n",
       "    }\n",
       "\n",
       "    .dataframe thead th {\n",
       "        text-align: right;\n",
       "    }\n",
       "</style>\n",
       "<table border=\"1\" class=\"dataframe\">\n",
       "  <thead>\n",
       "    <tr style=\"text-align: right;\">\n",
       "      <th></th>\n",
       "      <th>PRICE</th>\n",
       "    </tr>\n",
       "    <tr>\n",
       "      <th>FROM</th>\n",
       "      <th></th>\n",
       "    </tr>\n",
       "  </thead>\n",
       "  <tbody>\n",
       "    <tr>\n",
       "      <th>Bangalore</th>\n",
       "      <td>21455.881875</td>\n",
       "    </tr>\n",
       "    <tr>\n",
       "      <th>Chennai</th>\n",
       "      <td>21995.339871</td>\n",
       "    </tr>\n",
       "    <tr>\n",
       "      <th>Delhi</th>\n",
       "      <td>18950.984758</td>\n",
       "    </tr>\n",
       "    <tr>\n",
       "      <th>Hyderabad</th>\n",
       "      <td>20133.244665</td>\n",
       "    </tr>\n",
       "    <tr>\n",
       "      <th>Kolkata</th>\n",
       "      <td>21746.235679</td>\n",
       "    </tr>\n",
       "    <tr>\n",
       "      <th>Mumbai</th>\n",
       "      <td>21481.713446</td>\n",
       "    </tr>\n",
       "  </tbody>\n",
       "</table>\n",
       "</div>"
      ],
      "text/plain": [
       "                  PRICE\n",
       "FROM                   \n",
       "Bangalore  21455.881875\n",
       "Chennai    21995.339871\n",
       "Delhi      18950.984758\n",
       "Hyderabad  20133.244665\n",
       "Kolkata    21746.235679\n",
       "Mumbai     21481.713446"
      ]
     },
     "execution_count": 83,
     "metadata": {},
     "output_type": "execute_result"
    }
   ],
   "source": [
    "#FROM AND PRICE\n",
    "df.groupby(by=\"FROM\").agg(\"mean\")[['PRICE']]"
   ]
  },
  {
   "cell_type": "code",
   "execution_count": 84,
   "metadata": {
    "colab": {
     "base_uri": "https://localhost:8080/",
     "height": 323
    },
    "id": "fasp2orIjCMk",
    "outputId": "f5d9377b-f3f8-415c-a2ff-0c438b5945dd"
   },
   "outputs": [
    {
     "data": {
      "text/html": [
       "<div>\n",
       "<style scoped>\n",
       "    .dataframe tbody tr th:only-of-type {\n",
       "        vertical-align: middle;\n",
       "    }\n",
       "\n",
       "    .dataframe tbody tr th {\n",
       "        vertical-align: top;\n",
       "    }\n",
       "\n",
       "    .dataframe thead th {\n",
       "        text-align: right;\n",
       "    }\n",
       "</style>\n",
       "<table border=\"1\" class=\"dataframe\">\n",
       "  <thead>\n",
       "    <tr style=\"text-align: right;\">\n",
       "      <th></th>\n",
       "      <th>PRICE</th>\n",
       "    </tr>\n",
       "    <tr>\n",
       "      <th>TO</th>\n",
       "      <th></th>\n",
       "    </tr>\n",
       "  </thead>\n",
       "  <tbody>\n",
       "    <tr>\n",
       "      <th>Bangalore</th>\n",
       "      <td>21578.100544</td>\n",
       "    </tr>\n",
       "    <tr>\n",
       "      <th>Chennai</th>\n",
       "      <td>21953.323969</td>\n",
       "    </tr>\n",
       "    <tr>\n",
       "      <th>Delhi</th>\n",
       "      <td>18436.553355</td>\n",
       "    </tr>\n",
       "    <tr>\n",
       "      <th>Hyderabad</th>\n",
       "      <td>20410.105152</td>\n",
       "    </tr>\n",
       "    <tr>\n",
       "      <th>Kolkata</th>\n",
       "      <td>21959.218754</td>\n",
       "    </tr>\n",
       "    <tr>\n",
       "      <th>Mumbai</th>\n",
       "      <td>21369.040197</td>\n",
       "    </tr>\n",
       "  </tbody>\n",
       "</table>\n",
       "</div>"
      ],
      "text/plain": [
       "                  PRICE\n",
       "TO                     \n",
       "Bangalore  21578.100544\n",
       "Chennai    21953.323969\n",
       "Delhi      18436.553355\n",
       "Hyderabad  20410.105152\n",
       "Kolkata    21959.218754\n",
       "Mumbai     21369.040197"
      ]
     },
     "execution_count": 84,
     "metadata": {},
     "output_type": "execute_result"
    }
   ],
   "source": [
    "#TO AND PRICE\n",
    "df.groupby(by=\"TO\").agg(\"mean\")[['PRICE']]"
   ]
  },
  {
   "cell_type": "code",
   "execution_count": 85,
   "metadata": {
    "colab": {
     "base_uri": "https://localhost:8080/",
     "height": 198
    },
    "id": "d6Mawi_pjCYc",
    "outputId": "2c9c2078-a08b-459d-e24c-fb0d27914f53"
   },
   "outputs": [
    {
     "data": {
      "text/html": [
       "<div>\n",
       "<style scoped>\n",
       "    .dataframe tbody tr th:only-of-type {\n",
       "        vertical-align: middle;\n",
       "    }\n",
       "\n",
       "    .dataframe tbody tr th {\n",
       "        vertical-align: top;\n",
       "    }\n",
       "\n",
       "    .dataframe thead th {\n",
       "        text-align: right;\n",
       "    }\n",
       "</style>\n",
       "<table border=\"1\" class=\"dataframe\">\n",
       "  <thead>\n",
       "    <tr style=\"text-align: right;\">\n",
       "      <th></th>\n",
       "      <th>PRICE</th>\n",
       "    </tr>\n",
       "    <tr>\n",
       "      <th>CLASS</th>\n",
       "      <th></th>\n",
       "    </tr>\n",
       "  </thead>\n",
       "  <tbody>\n",
       "    <tr>\n",
       "      <th>Business</th>\n",
       "      <td>52540.081124</td>\n",
       "    </tr>\n",
       "    <tr>\n",
       "      <th>Economy</th>\n",
       "      <td>6571.190701</td>\n",
       "    </tr>\n",
       "  </tbody>\n",
       "</table>\n",
       "</div>"
      ],
      "text/plain": [
       "                 PRICE\n",
       "CLASS                 \n",
       "Business  52540.081124\n",
       "Economy    6571.190701"
      ]
     },
     "execution_count": 85,
     "metadata": {},
     "output_type": "execute_result"
    }
   ],
   "source": [
    "#CLASS AND PRICE\n",
    "df.groupby(by=\"CLASS\").agg(\"mean\")[['PRICE']]"
   ]
  },
  {
   "cell_type": "code",
   "execution_count": 86,
   "metadata": {
    "colab": {
     "base_uri": "https://localhost:8080/",
     "height": 509
    },
    "id": "1jchBa8VjSao",
    "outputId": "2d97c1ef-2214-48b1-e2e0-960d1c0d7ff8"
   },
   "outputs": [
    {
     "data": {
      "text/html": [
       "<div>\n",
       "<style scoped>\n",
       "    .dataframe tbody tr th:only-of-type {\n",
       "        vertical-align: middle;\n",
       "    }\n",
       "\n",
       "    .dataframe tbody tr th {\n",
       "        vertical-align: top;\n",
       "    }\n",
       "\n",
       "    .dataframe thead th {\n",
       "        text-align: right;\n",
       "    }\n",
       "</style>\n",
       "<table border=\"1\" class=\"dataframe\">\n",
       "  <thead>\n",
       "    <tr style=\"text-align: right;\">\n",
       "      <th></th>\n",
       "      <th>PRICE</th>\n",
       "    </tr>\n",
       "    <tr>\n",
       "      <th>TIME_TAKEN</th>\n",
       "      <th></th>\n",
       "    </tr>\n",
       "  </thead>\n",
       "  <tbody>\n",
       "    <tr>\n",
       "      <th>00h 50m</th>\n",
       "      <td>1973.557692</td>\n",
       "    </tr>\n",
       "    <tr>\n",
       "      <th>00h 55m</th>\n",
       "      <td>2003.538462</td>\n",
       "    </tr>\n",
       "    <tr>\n",
       "      <th>01h 00m</th>\n",
       "      <td>2282.093199</td>\n",
       "    </tr>\n",
       "    <tr>\n",
       "      <th>01h 05m</th>\n",
       "      <td>2593.148342</td>\n",
       "    </tr>\n",
       "    <tr>\n",
       "      <th>01h 10m</th>\n",
       "      <td>2632.209375</td>\n",
       "    </tr>\n",
       "    <tr>\n",
       "      <th>...</th>\n",
       "      <td>...</td>\n",
       "    </tr>\n",
       "    <tr>\n",
       "      <th>47h 05m</th>\n",
       "      <td>17223.000000</td>\n",
       "    </tr>\n",
       "    <tr>\n",
       "      <th>47h 45m</th>\n",
       "      <td>31291.500000</td>\n",
       "    </tr>\n",
       "    <tr>\n",
       "      <th>49h 50m</th>\n",
       "      <td>20714.500000</td>\n",
       "    </tr>\n",
       "    <tr>\n",
       "      <th>5h 30m</th>\n",
       "      <td>3124.000000</td>\n",
       "    </tr>\n",
       "    <tr>\n",
       "      <th>7h 20m</th>\n",
       "      <td>3166.000000</td>\n",
       "    </tr>\n",
       "  </tbody>\n",
       "</table>\n",
       "<p>483 rows × 1 columns</p>\n",
       "</div>"
      ],
      "text/plain": [
       "                   PRICE\n",
       "TIME_TAKEN              \n",
       "00h 50m      1973.557692\n",
       "00h 55m      2003.538462\n",
       "01h 00m      2282.093199\n",
       "01h 05m      2593.148342\n",
       "01h 10m      2632.209375\n",
       "...                  ...\n",
       "47h 05m     17223.000000\n",
       "47h 45m     31291.500000\n",
       "49h 50m     20714.500000\n",
       "5h 30m       3124.000000\n",
       "7h 20m       3166.000000\n",
       "\n",
       "[483 rows x 1 columns]"
      ]
     },
     "execution_count": 86,
     "metadata": {},
     "output_type": "execute_result"
    }
   ],
   "source": [
    "#TIME_TAKEN AND PRICE\n",
    "df.groupby(by=\"TIME_TAKEN\").agg(\"mean\")[['PRICE']]"
   ]
  },
  {
   "cell_type": "code",
   "execution_count": 87,
   "metadata": {
    "colab": {
     "base_uri": "https://localhost:8080/",
     "height": 728
    },
    "id": "yUfGftEhjzZ2",
    "outputId": "6beff008-eade-4830-c21c-7cc9bf068b0c"
   },
   "outputs": [
    {
     "data": {
      "text/plain": [
       "<AxesSubplot:xlabel='PRICE', ylabel='Density'>"
      ]
     },
     "execution_count": 87,
     "metadata": {},
     "output_type": "execute_result"
    },
    {
     "data": {
      "image/png": "[encoded data removed]",
      "text/plain": [
       "<Figure size 1200x800 with 1 Axes>"
      ]
     },
     "metadata": {},
     "output_type": "display_data"
    }
   ],
   "source": [
    "#kdeplot visualization for all numerical attributes with target attribute\n",
    "plt.figure(figsize=(12,8))\n",
    "sns.kdeplot(data=df, x= 'PRICE',hue='NUMBER_OF_STOPS',fill=True)"
   ]
  },
  {
   "cell_type": "code",
   "execution_count": 88,
   "metadata": {
    "colab": {
     "base_uri": "https://localhost:8080/",
     "height": 507
    },
    "id": "oXfAzrjakWhH",
    "outputId": "67a303ee-680c-4d7b-abdd-bb0eebe4a7df"
   },
   "outputs": [
    {
     "data": {
      "text/plain": [
       "<AxesSubplot:>"
      ]
     },
     "execution_count": 88,
     "metadata": {},
     "output_type": "execute_result"
    },
    {
     "data": {
      "image/png": "[encoded data removed]",
      "text/plain": [
       "<Figure size 640x480 with 2 Axes>"
      ]
     },
     "metadata": {},
     "output_type": "display_data"
    }
   ],
   "source": [
    "#heatmap\n",
    "sns.heatmap(df.corr(), annot=True)"
   ]
  },
  {
   "cell_type": "code",
   "execution_count": 89,
   "metadata": {},
   "outputs": [],
   "source": [
    "#CREATE A BACK-UP DATAFRAME  \n",
    "df_back=df"
   ]
  },
  {
   "cell_type": "code",
   "execution_count": 90,
   "metadata": {},
   "outputs": [
    {
     "data": {
      "text/html": [
       "<div>\n",
       "<style scoped>\n",
       "    .dataframe tbody tr th:only-of-type {\n",
       "        vertical-align: middle;\n",
       "    }\n",
       "\n",
       "    .dataframe tbody tr th {\n",
       "        vertical-align: top;\n",
       "    }\n",
       "\n",
       "    .dataframe thead th {\n",
       "        text-align: right;\n",
       "    }\n",
       "</style>\n",
       "<table border=\"1\" class=\"dataframe\">\n",
       "  <thead>\n",
       "    <tr style=\"text-align: right;\">\n",
       "      <th></th>\n",
       "      <th>AIRLINE</th>\n",
       "      <th>CH_CODE</th>\n",
       "      <th>NUM_CODE</th>\n",
       "      <th>DEP_TIME</th>\n",
       "      <th>FROM</th>\n",
       "      <th>TIME_TAKEN</th>\n",
       "      <th>ARR_TIME</th>\n",
       "      <th>TO</th>\n",
       "      <th>PRICE</th>\n",
       "      <th>CLASS</th>\n",
       "      <th>NUMBER_OF_STOPS</th>\n",
       "    </tr>\n",
       "  </thead>\n",
       "  <tbody>\n",
       "    <tr>\n",
       "      <th>0</th>\n",
       "      <td>SpiceJet</td>\n",
       "      <td>SG</td>\n",
       "      <td>8709</td>\n",
       "      <td>18:55</td>\n",
       "      <td>Delhi</td>\n",
       "      <td>02h 10m</td>\n",
       "      <td>21:05</td>\n",
       "      <td>Mumbai</td>\n",
       "      <td>5953</td>\n",
       "      <td>Economy</td>\n",
       "      <td>0</td>\n",
       "    </tr>\n",
       "    <tr>\n",
       "      <th>1</th>\n",
       "      <td>SpiceJet</td>\n",
       "      <td>SG</td>\n",
       "      <td>8157</td>\n",
       "      <td>06:20</td>\n",
       "      <td>Delhi</td>\n",
       "      <td>02h 20m</td>\n",
       "      <td>08:40</td>\n",
       "      <td>Mumbai</td>\n",
       "      <td>5953</td>\n",
       "      <td>Economy</td>\n",
       "      <td>0</td>\n",
       "    </tr>\n",
       "    <tr>\n",
       "      <th>2</th>\n",
       "      <td>AirAsia</td>\n",
       "      <td>I5</td>\n",
       "      <td>764</td>\n",
       "      <td>04:25</td>\n",
       "      <td>Delhi</td>\n",
       "      <td>02h 10m</td>\n",
       "      <td>06:35</td>\n",
       "      <td>Mumbai</td>\n",
       "      <td>5956</td>\n",
       "      <td>Economy</td>\n",
       "      <td>0</td>\n",
       "    </tr>\n",
       "    <tr>\n",
       "      <th>3</th>\n",
       "      <td>Vistara</td>\n",
       "      <td>UK</td>\n",
       "      <td>995</td>\n",
       "      <td>10:20</td>\n",
       "      <td>Delhi</td>\n",
       "      <td>02h 15m</td>\n",
       "      <td>12:35</td>\n",
       "      <td>Mumbai</td>\n",
       "      <td>5955</td>\n",
       "      <td>Economy</td>\n",
       "      <td>0</td>\n",
       "    </tr>\n",
       "    <tr>\n",
       "      <th>4</th>\n",
       "      <td>Vistara</td>\n",
       "      <td>UK</td>\n",
       "      <td>963</td>\n",
       "      <td>08:50</td>\n",
       "      <td>Delhi</td>\n",
       "      <td>02h 20m</td>\n",
       "      <td>11:10</td>\n",
       "      <td>Mumbai</td>\n",
       "      <td>5955</td>\n",
       "      <td>Economy</td>\n",
       "      <td>0</td>\n",
       "    </tr>\n",
       "    <tr>\n",
       "      <th>...</th>\n",
       "      <td>...</td>\n",
       "      <td>...</td>\n",
       "      <td>...</td>\n",
       "      <td>...</td>\n",
       "      <td>...</td>\n",
       "      <td>...</td>\n",
       "      <td>...</td>\n",
       "      <td>...</td>\n",
       "      <td>...</td>\n",
       "      <td>...</td>\n",
       "      <td>...</td>\n",
       "    </tr>\n",
       "    <tr>\n",
       "      <th>300256</th>\n",
       "      <td>Vistara</td>\n",
       "      <td>UK</td>\n",
       "      <td>822</td>\n",
       "      <td>09:45</td>\n",
       "      <td>Chennai</td>\n",
       "      <td>10h 05m</td>\n",
       "      <td>19:50</td>\n",
       "      <td>Hyderabad</td>\n",
       "      <td>69265</td>\n",
       "      <td>Business</td>\n",
       "      <td>1</td>\n",
       "    </tr>\n",
       "    <tr>\n",
       "      <th>300257</th>\n",
       "      <td>Vistara</td>\n",
       "      <td>UK</td>\n",
       "      <td>826</td>\n",
       "      <td>12:30</td>\n",
       "      <td>Chennai</td>\n",
       "      <td>10h 25m</td>\n",
       "      <td>22:55</td>\n",
       "      <td>Hyderabad</td>\n",
       "      <td>77105</td>\n",
       "      <td>Business</td>\n",
       "      <td>1</td>\n",
       "    </tr>\n",
       "    <tr>\n",
       "      <th>300258</th>\n",
       "      <td>Vistara</td>\n",
       "      <td>UK</td>\n",
       "      <td>832</td>\n",
       "      <td>07:05</td>\n",
       "      <td>Chennai</td>\n",
       "      <td>13h 50m</td>\n",
       "      <td>20:55</td>\n",
       "      <td>Hyderabad</td>\n",
       "      <td>79099</td>\n",
       "      <td>Business</td>\n",
       "      <td>1</td>\n",
       "    </tr>\n",
       "    <tr>\n",
       "      <th>300259</th>\n",
       "      <td>Vistara</td>\n",
       "      <td>UK</td>\n",
       "      <td>828</td>\n",
       "      <td>07:00</td>\n",
       "      <td>Chennai</td>\n",
       "      <td>10h 00m</td>\n",
       "      <td>17:00</td>\n",
       "      <td>Hyderabad</td>\n",
       "      <td>81585</td>\n",
       "      <td>Business</td>\n",
       "      <td>1</td>\n",
       "    </tr>\n",
       "    <tr>\n",
       "      <th>300260</th>\n",
       "      <td>Vistara</td>\n",
       "      <td>UK</td>\n",
       "      <td>822</td>\n",
       "      <td>09:45</td>\n",
       "      <td>Chennai</td>\n",
       "      <td>10h 05m</td>\n",
       "      <td>19:50</td>\n",
       "      <td>Hyderabad</td>\n",
       "      <td>81585</td>\n",
       "      <td>Business</td>\n",
       "      <td>1</td>\n",
       "    </tr>\n",
       "  </tbody>\n",
       "</table>\n",
       "<p>300261 rows × 11 columns</p>\n",
       "</div>"
      ],
      "text/plain": [
       "         AIRLINE CH_CODE  NUM_CODE DEP_TIME     FROM TIME_TAKEN ARR_TIME  \\\n",
       "0       SpiceJet      SG      8709    18:55    Delhi    02h 10m    21:05   \n",
       "1       SpiceJet      SG      8157    06:20    Delhi    02h 20m    08:40   \n",
       "2        AirAsia      I5       764    04:25    Delhi    02h 10m    06:35   \n",
       "3        Vistara      UK       995    10:20    Delhi    02h 15m    12:35   \n",
       "4        Vistara      UK       963    08:50    Delhi    02h 20m    11:10   \n",
       "...          ...     ...       ...      ...      ...        ...      ...   \n",
       "300256   Vistara      UK       822    09:45  Chennai    10h 05m    19:50   \n",
       "300257   Vistara      UK       826    12:30  Chennai    10h 25m    22:55   \n",
       "300258   Vistara      UK       832    07:05  Chennai    13h 50m    20:55   \n",
       "300259   Vistara      UK       828    07:00  Chennai    10h 00m    17:00   \n",
       "300260   Vistara      UK       822    09:45  Chennai    10h 05m    19:50   \n",
       "\n",
       "               TO  PRICE     CLASS  NUMBER_OF_STOPS  \n",
       "0          Mumbai   5953   Economy                0  \n",
       "1          Mumbai   5953   Economy                0  \n",
       "2          Mumbai   5956   Economy                0  \n",
       "3          Mumbai   5955   Economy                0  \n",
       "4          Mumbai   5955   Economy                0  \n",
       "...           ...    ...       ...              ...  \n",
       "300256  Hyderabad  69265  Business                1  \n",
       "300257  Hyderabad  77105  Business                1  \n",
       "300258  Hyderabad  79099  Business                1  \n",
       "300259  Hyderabad  81585  Business                1  \n",
       "300260  Hyderabad  81585  Business                1  \n",
       "\n",
       "[300261 rows x 11 columns]"
      ]
     },
     "execution_count": 90,
     "metadata": {},
     "output_type": "execute_result"
    }
   ],
   "source": [
    "df_back"
   ]
  },
  {
   "cell_type": "code",
   "execution_count": 91,
   "metadata": {},
   "outputs": [],
   "source": [
    "#Converting a Python object into a byte stream to store it in a FILE/database\n",
    "import pickle\n",
    "dbfile = open('dataframe', 'wb')      \n",
    "# Source, Destination\n",
    "pickle.dump(df_back, dbfile)                     \n",
    "dbfile.close()"
   ]
  },
  {
   "cell_type": "markdown",
   "metadata": {},
   "source": [
    "# ENCODING"
   ]
  },
  {
   "cell_type": "code",
   "execution_count": 92,
   "metadata": {
    "id": "FIUjmUskrs5P"
   },
   "outputs": [],
   "source": [
    "# Check for categorical columns\n",
    "categorical_columns = df.select_dtypes(include=['object']).columns"
   ]
  },
  {
   "cell_type": "code",
   "execution_count": 93,
   "metadata": {
    "colab": {
     "base_uri": "https://localhost:8080/"
    },
    "id": "v3FTzdFmsHbA",
    "outputId": "041c0123-cdbe-48c6-fca9-3a227aab01e3"
   },
   "outputs": [
    {
     "name": "stdout",
     "output_type": "stream",
     "text": [
      "Categorical columns:\n",
      "AIRLINE\n",
      "CH_CODE\n",
      "DEP_TIME\n",
      "FROM\n",
      "TIME_TAKEN\n",
      "ARR_TIME\n",
      "TO\n",
      "CLASS\n"
     ]
    }
   ],
   "source": [
    "#Print the categorical columns\n",
    "print(\"Categorical columns:\")\n",
    "for column in categorical_columns:\n",
    "    print(column)"
   ]
  },
  {
   "cell_type": "code",
   "execution_count": 94,
   "metadata": {
    "colab": {
     "base_uri": "https://localhost:8080/",
     "height": 539
    },
    "id": "9UKeDaIWwa23",
    "outputId": "cf0d39ad-d1e8-44ad-bd81-b3246af20e87"
   },
   "outputs": [],
   "source": [
    "# Import label encoder\n",
    "from sklearn import preprocessing\n",
    "label_encoder = preprocessing.LabelEncoder()\n",
    "  \n",
    "# Encode labels in all categorical columns.\n",
    "for column in categorical_columns:\n",
    "\tdf[column]= label_encoder.fit_transform(df[column])\n",
    "  \n",
    "#df['species'].unique()"
   ]
  },
  {
   "cell_type": "code",
   "execution_count": 95,
   "metadata": {
    "colab": {
     "base_uri": "https://localhost:8080/"
    },
    "id": "_u3zzEMNpv5S",
    "outputId": "0189005d-7147-4db4-ee22-82747f2c9073",
    "scrolled": true
   },
   "outputs": [
    {
     "data": {
      "text/html": [
       "<div>\n",
       "<style scoped>\n",
       "    .dataframe tbody tr th:only-of-type {\n",
       "        vertical-align: middle;\n",
       "    }\n",
       "\n",
       "    .dataframe tbody tr th {\n",
       "        vertical-align: top;\n",
       "    }\n",
       "\n",
       "    .dataframe thead th {\n",
       "        text-align: right;\n",
       "    }\n",
       "</style>\n",
       "<table border=\"1\" class=\"dataframe\">\n",
       "  <thead>\n",
       "    <tr style=\"text-align: right;\">\n",
       "      <th></th>\n",
       "      <th>AIRLINE</th>\n",
       "      <th>CH_CODE</th>\n",
       "      <th>NUM_CODE</th>\n",
       "      <th>DEP_TIME</th>\n",
       "      <th>FROM</th>\n",
       "      <th>TIME_TAKEN</th>\n",
       "      <th>ARR_TIME</th>\n",
       "      <th>TO</th>\n",
       "      <th>PRICE</th>\n",
       "      <th>CLASS</th>\n",
       "      <th>NUMBER_OF_STOPS</th>\n",
       "    </tr>\n",
       "  </thead>\n",
       "  <tbody>\n",
       "    <tr>\n",
       "      <th>0</th>\n",
       "      <td>4</td>\n",
       "      <td>6</td>\n",
       "      <td>8709</td>\n",
       "      <td>190</td>\n",
       "      <td>2</td>\n",
       "      <td>16</td>\n",
       "      <td>230</td>\n",
       "      <td>5</td>\n",
       "      <td>5953</td>\n",
       "      <td>1</td>\n",
       "      <td>0</td>\n",
       "    </tr>\n",
       "    <tr>\n",
       "      <th>1</th>\n",
       "      <td>4</td>\n",
       "      <td>6</td>\n",
       "      <td>8157</td>\n",
       "      <td>40</td>\n",
       "      <td>2</td>\n",
       "      <td>18</td>\n",
       "      <td>81</td>\n",
       "      <td>5</td>\n",
       "      <td>5953</td>\n",
       "      <td>1</td>\n",
       "      <td>0</td>\n",
       "    </tr>\n",
       "    <tr>\n",
       "      <th>2</th>\n",
       "      <td>1</td>\n",
       "      <td>4</td>\n",
       "      <td>764</td>\n",
       "      <td>17</td>\n",
       "      <td>2</td>\n",
       "      <td>16</td>\n",
       "      <td>56</td>\n",
       "      <td>5</td>\n",
       "      <td>5956</td>\n",
       "      <td>1</td>\n",
       "      <td>0</td>\n",
       "    </tr>\n",
       "    <tr>\n",
       "      <th>3</th>\n",
       "      <td>7</td>\n",
       "      <td>7</td>\n",
       "      <td>995</td>\n",
       "      <td>88</td>\n",
       "      <td>2</td>\n",
       "      <td>17</td>\n",
       "      <td>128</td>\n",
       "      <td>5</td>\n",
       "      <td>5955</td>\n",
       "      <td>1</td>\n",
       "      <td>0</td>\n",
       "    </tr>\n",
       "    <tr>\n",
       "      <th>4</th>\n",
       "      <td>7</td>\n",
       "      <td>7</td>\n",
       "      <td>963</td>\n",
       "      <td>70</td>\n",
       "      <td>2</td>\n",
       "      <td>18</td>\n",
       "      <td>111</td>\n",
       "      <td>5</td>\n",
       "      <td>5955</td>\n",
       "      <td>1</td>\n",
       "      <td>0</td>\n",
       "    </tr>\n",
       "  </tbody>\n",
       "</table>\n",
       "</div>"
      ],
      "text/plain": [
       "   AIRLINE  CH_CODE  NUM_CODE  DEP_TIME  FROM  TIME_TAKEN  ARR_TIME  TO  \\\n",
       "0        4        6      8709       190     2          16       230   5   \n",
       "1        4        6      8157        40     2          18        81   5   \n",
       "2        1        4       764        17     2          16        56   5   \n",
       "3        7        7       995        88     2          17       128   5   \n",
       "4        7        7       963        70     2          18       111   5   \n",
       "\n",
       "   PRICE  CLASS  NUMBER_OF_STOPS  \n",
       "0   5953      1                0  \n",
       "1   5953      1                0  \n",
       "2   5956      1                0  \n",
       "3   5955      1                0  \n",
       "4   5955      1                0  "
      ]
     },
     "execution_count": 95,
     "metadata": {},
     "output_type": "execute_result"
    }
   ],
   "source": [
    "#Head of the updated encoded dataframe\n",
    "df.head()"
   ]
  },
  {
   "cell_type": "code",
   "execution_count": 97,
   "metadata": {
    "id": "AKVA46GVjle_"
   },
   "outputs": [
    {
     "data": {
      "text/html": [
       "<div>\n",
       "<style scoped>\n",
       "    .dataframe tbody tr th:only-of-type {\n",
       "        vertical-align: middle;\n",
       "    }\n",
       "\n",
       "    .dataframe tbody tr th {\n",
       "        vertical-align: top;\n",
       "    }\n",
       "\n",
       "    .dataframe thead th {\n",
       "        text-align: right;\n",
       "    }\n",
       "</style>\n",
       "<table border=\"1\" class=\"dataframe\">\n",
       "  <thead>\n",
       "    <tr style=\"text-align: right;\">\n",
       "      <th></th>\n",
       "      <th>AIRLINE</th>\n",
       "      <th>CH_CODE</th>\n",
       "      <th>NUM_CODE</th>\n",
       "      <th>DEP_TIME</th>\n",
       "      <th>FROM</th>\n",
       "      <th>TIME_TAKEN</th>\n",
       "      <th>ARR_TIME</th>\n",
       "      <th>TO</th>\n",
       "      <th>PRICE</th>\n",
       "      <th>CLASS</th>\n",
       "      <th>NUMBER_OF_STOPS</th>\n",
       "    </tr>\n",
       "  </thead>\n",
       "  <tbody>\n",
       "    <tr>\n",
       "      <th>0</th>\n",
       "      <td>4</td>\n",
       "      <td>6</td>\n",
       "      <td>8709</td>\n",
       "      <td>190</td>\n",
       "      <td>2</td>\n",
       "      <td>16</td>\n",
       "      <td>230</td>\n",
       "      <td>5</td>\n",
       "      <td>5953</td>\n",
       "      <td>1</td>\n",
       "      <td>0</td>\n",
       "    </tr>\n",
       "    <tr>\n",
       "      <th>1</th>\n",
       "      <td>4</td>\n",
       "      <td>6</td>\n",
       "      <td>8157</td>\n",
       "      <td>40</td>\n",
       "      <td>2</td>\n",
       "      <td>18</td>\n",
       "      <td>81</td>\n",
       "      <td>5</td>\n",
       "      <td>5953</td>\n",
       "      <td>1</td>\n",
       "      <td>0</td>\n",
       "    </tr>\n",
       "    <tr>\n",
       "      <th>2</th>\n",
       "      <td>1</td>\n",
       "      <td>4</td>\n",
       "      <td>764</td>\n",
       "      <td>17</td>\n",
       "      <td>2</td>\n",
       "      <td>16</td>\n",
       "      <td>56</td>\n",
       "      <td>5</td>\n",
       "      <td>5956</td>\n",
       "      <td>1</td>\n",
       "      <td>0</td>\n",
       "    </tr>\n",
       "    <tr>\n",
       "      <th>3</th>\n",
       "      <td>7</td>\n",
       "      <td>7</td>\n",
       "      <td>995</td>\n",
       "      <td>88</td>\n",
       "      <td>2</td>\n",
       "      <td>17</td>\n",
       "      <td>128</td>\n",
       "      <td>5</td>\n",
       "      <td>5955</td>\n",
       "      <td>1</td>\n",
       "      <td>0</td>\n",
       "    </tr>\n",
       "    <tr>\n",
       "      <th>4</th>\n",
       "      <td>7</td>\n",
       "      <td>7</td>\n",
       "      <td>963</td>\n",
       "      <td>70</td>\n",
       "      <td>2</td>\n",
       "      <td>18</td>\n",
       "      <td>111</td>\n",
       "      <td>5</td>\n",
       "      <td>5955</td>\n",
       "      <td>1</td>\n",
       "      <td>0</td>\n",
       "    </tr>\n",
       "    <tr>\n",
       "      <th>...</th>\n",
       "      <td>...</td>\n",
       "      <td>...</td>\n",
       "      <td>...</td>\n",
       "      <td>...</td>\n",
       "      <td>...</td>\n",
       "      <td>...</td>\n",
       "      <td>...</td>\n",
       "      <td>...</td>\n",
       "      <td>...</td>\n",
       "      <td>...</td>\n",
       "      <td>...</td>\n",
       "    </tr>\n",
       "    <tr>\n",
       "      <th>300256</th>\n",
       "      <td>7</td>\n",
       "      <td>7</td>\n",
       "      <td>822</td>\n",
       "      <td>81</td>\n",
       "      <td>1</td>\n",
       "      <td>116</td>\n",
       "      <td>215</td>\n",
       "      <td>3</td>\n",
       "      <td>69265</td>\n",
       "      <td>0</td>\n",
       "      <td>1</td>\n",
       "    </tr>\n",
       "    <tr>\n",
       "      <th>300257</th>\n",
       "      <td>7</td>\n",
       "      <td>7</td>\n",
       "      <td>826</td>\n",
       "      <td>113</td>\n",
       "      <td>1</td>\n",
       "      <td>120</td>\n",
       "      <td>252</td>\n",
       "      <td>3</td>\n",
       "      <td>77105</td>\n",
       "      <td>0</td>\n",
       "      <td>1</td>\n",
       "    </tr>\n",
       "    <tr>\n",
       "      <th>300258</th>\n",
       "      <td>7</td>\n",
       "      <td>7</td>\n",
       "      <td>832</td>\n",
       "      <td>49</td>\n",
       "      <td>1</td>\n",
       "      <td>162</td>\n",
       "      <td>228</td>\n",
       "      <td>3</td>\n",
       "      <td>79099</td>\n",
       "      <td>0</td>\n",
       "      <td>1</td>\n",
       "    </tr>\n",
       "    <tr>\n",
       "      <th>300259</th>\n",
       "      <td>7</td>\n",
       "      <td>7</td>\n",
       "      <td>828</td>\n",
       "      <td>48</td>\n",
       "      <td>1</td>\n",
       "      <td>115</td>\n",
       "      <td>181</td>\n",
       "      <td>3</td>\n",
       "      <td>81585</td>\n",
       "      <td>0</td>\n",
       "      <td>1</td>\n",
       "    </tr>\n",
       "    <tr>\n",
       "      <th>300260</th>\n",
       "      <td>7</td>\n",
       "      <td>7</td>\n",
       "      <td>822</td>\n",
       "      <td>81</td>\n",
       "      <td>1</td>\n",
       "      <td>116</td>\n",
       "      <td>215</td>\n",
       "      <td>3</td>\n",
       "      <td>81585</td>\n",
       "      <td>0</td>\n",
       "      <td>1</td>\n",
       "    </tr>\n",
       "  </tbody>\n",
       "</table>\n",
       "<p>300261 rows × 11 columns</p>\n",
       "</div>"
      ],
      "text/plain": [
       "        AIRLINE  CH_CODE  NUM_CODE  DEP_TIME  FROM  TIME_TAKEN  ARR_TIME  TO  \\\n",
       "0             4        6      8709       190     2          16       230   5   \n",
       "1             4        6      8157        40     2          18        81   5   \n",
       "2             1        4       764        17     2          16        56   5   \n",
       "3             7        7       995        88     2          17       128   5   \n",
       "4             7        7       963        70     2          18       111   5   \n",
       "...         ...      ...       ...       ...   ...         ...       ...  ..   \n",
       "300256        7        7       822        81     1         116       215   3   \n",
       "300257        7        7       826       113     1         120       252   3   \n",
       "300258        7        7       832        49     1         162       228   3   \n",
       "300259        7        7       828        48     1         115       181   3   \n",
       "300260        7        7       822        81     1         116       215   3   \n",
       "\n",
       "        PRICE  CLASS  NUMBER_OF_STOPS  \n",
       "0        5953      1                0  \n",
       "1        5953      1                0  \n",
       "2        5956      1                0  \n",
       "3        5955      1                0  \n",
       "4        5955      1                0  \n",
       "...       ...    ...              ...  \n",
       "300256  69265      0                1  \n",
       "300257  77105      0                1  \n",
       "300258  79099      0                1  \n",
       "300259  81585      0                1  \n",
       "300260  81585      0                1  \n",
       "\n",
       "[300261 rows x 11 columns]"
      ]
     },
     "execution_count": 97,
     "metadata": {},
     "output_type": "execute_result"
    }
   ],
   "source": [
    "#Tail of the updated encoded dataframe\n",
    "df_back"
   ]
  },
  {
   "cell_type": "markdown",
   "metadata": {},
   "source": [
    "# Splitting into dependent and independent variables"
   ]
  },
  {
   "cell_type": "code",
   "execution_count": 98,
   "metadata": {
    "colab": {
     "base_uri": "https://localhost:8080/"
    },
    "id": "F3KK7G6Dwmp_",
    "outputId": "a7ae6743-6fcf-4da0-cbcd-048d4e0db2d4"
   },
   "outputs": [
    {
     "name": "stdout",
     "output_type": "stream",
     "text": [
      "Independent Variables (X):\n",
      "   AIRLINE  CH_CODE  NUM_CODE  DEP_TIME  FROM  TIME_TAKEN  ARR_TIME  TO  \\\n",
      "0        4        6      8709       190     2          16       230   5   \n",
      "1        4        6      8157        40     2          18        81   5   \n",
      "2        1        4       764        17     2          16        56   5   \n",
      "3        7        7       995        88     2          17       128   5   \n",
      "4        7        7       963        70     2          18       111   5   \n",
      "\n",
      "   CLASS  NUMBER_OF_STOPS  \n",
      "0      1                0  \n",
      "1      1                0  \n",
      "2      1                0  \n",
      "3      1                0  \n",
      "4      1                0  \n",
      "\n",
      "Dependent Variable (y):\n",
      "0    5953\n",
      "1    5953\n",
      "2    5956\n",
      "3    5955\n",
      "4    5955\n",
      "Name: PRICE, dtype: int32\n"
     ]
    }
   ],
   "source": [
    "X = df.drop(columns=['PRICE'])  # Independent variables\n",
    "y = df['PRICE']  # Dependent variable\n",
    "\n",
    "# Printing the output\n",
    "# we print the first few entries of both X and y using the head() function to display the output.\n",
    "print(\"Independent Variables (X):\")\n",
    "print(X.head())\n",
    "\n",
    "print(\"\\nDependent Variable (y):\")\n",
    "print(y.head())\n"
   ]
  },
  {
   "cell_type": "markdown",
   "metadata": {},
   "source": [
    "# Splitting the data into train and test sets"
   ]
  },
  {
   "cell_type": "code",
   "execution_count": 99,
   "metadata": {
    "colab": {
     "base_uri": "https://localhost:8080/"
    },
    "id": "IYXAg8oBwm4d",
    "outputId": "ea65e079-6a2d-4adb-9ec5-cc8947fe7a34"
   },
   "outputs": [
    {
     "name": "stdout",
     "output_type": "stream",
     "text": [
      "Train set shape:\n",
      "(240208, 10) (240208,)\n",
      "\n",
      "Test set shape:\n",
      "(60053, 10) (60053,)\n"
     ]
    }
   ],
   "source": [
    "X_train, X_test, y_train, y_test = train_test_split(X, y, test_size=0.2, random_state=123)\n",
    "\n",
    "# Printing the shapes of the train and test sets\n",
    "print(\"Train set shape:\")\n",
    "print(X_train.shape, y_train.shape)\n",
    "\n",
    "print(\"\\nTest set shape:\")\n",
    "print(X_test.shape, y_test.shape)\n"
   ]
  },
  {
   "cell_type": "code",
   "execution_count": 100,
   "metadata": {
    "colab": {
     "base_uri": "https://localhost:8080/"
    },
    "id": "MI9krVLwTGdq",
    "outputId": "315d26de-f186-4d9c-876c-9f72533af7e9"
   },
   "outputs": [
    {
     "name": "stdout",
     "output_type": "stream",
     "text": [
      "<class 'pandas.core.frame.DataFrame'>\n",
      "RangeIndex: 300261 entries, 0 to 300260\n",
      "Data columns (total 11 columns):\n",
      " #   Column           Non-Null Count   Dtype\n",
      "---  ------           --------------   -----\n",
      " 0   AIRLINE          300261 non-null  int32\n",
      " 1   CH_CODE          300261 non-null  int32\n",
      " 2   NUM_CODE         300261 non-null  int64\n",
      " 3   DEP_TIME         300261 non-null  int32\n",
      " 4   FROM             300261 non-null  int32\n",
      " 5   TIME_TAKEN       300261 non-null  int32\n",
      " 6   ARR_TIME         300261 non-null  int32\n",
      " 7   TO               300261 non-null  int32\n",
      " 8   PRICE            300261 non-null  int32\n",
      " 9   CLASS            300261 non-null  int32\n",
      " 10  NUMBER_OF_STOPS  300261 non-null  int32\n",
      "dtypes: int32(10), int64(1)\n",
      "memory usage: 13.7 MB\n"
     ]
    }
   ],
   "source": [
    "#Dataframe Info\n",
    "df.info()"
   ]
  },
  {
   "cell_type": "code",
   "execution_count": 101,
   "metadata": {
    "colab": {
     "base_uri": "https://localhost:8080/"
    },
    "id": "O0Qig4N6LzN1",
    "outputId": "b3872831-bedb-4d94-b754-4ab52883da99"
   },
   "outputs": [
    {
     "name": "stdout",
     "output_type": "stream",
     "text": [
      "(240208, 10)\n",
      "(60053, 10)\n",
      "(240208,)\n",
      "(60053,)\n"
     ]
    }
   ],
   "source": [
    "#Size and Shape of Train and Test Datasets\n",
    "print(X_train.shape)\n",
    "print(X_test.shape)\n",
    "print(y_train.shape)\n",
    "print(y_test.shape)"
   ]
  },
  {
   "cell_type": "markdown",
   "metadata": {},
   "source": [
    "# Ensemble Techniques"
   ]
  },
  {
   "cell_type": "code",
   "execution_count": 102,
   "metadata": {
    "id": "ZIpDieY5LzN4"
   },
   "outputs": [],
   "source": [
    "#Ensemble Techniques to check which one is most accurate \n",
    "lr = LinearRegression()\n",
    "log_r=LogisticRegression()\n",
    "dt1 = DecisionTreeRegressor()\n",
    "dt2 = DecisionTreeRegressor()\n",
    "rf = RandomForestRegressor()"
   ]
  },
  {
   "cell_type": "markdown",
   "metadata": {},
   "source": [
    "## LINEAR REGRESSION"
   ]
  },
  {
   "cell_type": "code",
   "execution_count": 103,
   "metadata": {
    "id": "DLAO4mZdLzN5"
   },
   "outputs": [],
   "source": [
    "lr.fit(X_train, y_train)\n",
    "y_pred_lr = lr.predict(X_test)"
   ]
  },
  {
   "cell_type": "code",
   "execution_count": 104,
   "metadata": {
    "colab": {
     "base_uri": "https://localhost:8080/"
    },
    "id": "yIgCwWhDLzN7",
    "outputId": "6495bdae-8de7-4f32-af53-8d2138cafbdd"
   },
   "outputs": [
    {
     "data": {
      "text/plain": [
       "array([ 8629.60845511,  6028.74819823,  -168.84396004, ...,\n",
       "        8354.31177912, 53792.11238722,   878.76462524])"
      ]
     },
     "execution_count": 104,
     "metadata": {},
     "output_type": "execute_result"
    }
   ],
   "source": [
    "y_pred_lr"
   ]
  },
  {
   "cell_type": "code",
   "execution_count": 105,
   "metadata": {
    "id": "QhH0uRSGLzN8"
   },
   "outputs": [],
   "source": [
    "#CALCULATING ACCURACY , MEAN SQUARED ERROR ,ROOT MEAN SQUARE ERROR, R-SQUARED ERROR AND MEAN ABSOLUTE ERROR\n",
    "score = round((lr.score(X_test, y_test)*100), 2)\n",
    "mse = round(mean_squared_error(y_test, y_pred_lr), 3)\n",
    "rmse = round(np.sqrt(mean_squared_error(y_test, y_pred_lr)), 3)\n",
    "r2 = round(r2_score(y_test, y_pred_lr), 3)\n",
    "mae = mean_absolute_error(y_test, y_pred_lr)\n",
    "metrics_lr = pd.DataFrame({\n",
    "        'Model Name': 'Linear Regression',\n",
    "        'Accuracy(%)': [score],\n",
    "        'Mean Squared Error (MSE)': [mse],\n",
    "        'Root Mean Squared Error (RMSE)': [rmse],\n",
    "        'R-squared (R2-Score)': [r2],\n",
    "        'Mean Absolute Error (MAE)': [mae]\n",
    "    })"
   ]
  },
  {
   "cell_type": "code",
   "execution_count": 106,
   "metadata": {
    "colab": {
     "base_uri": "https://localhost:8080/",
     "height": 125
    },
    "id": "3ANRsGW3LzN9",
    "outputId": "d6c30e6a-ac3e-410c-e661-e1669204132f"
   },
   "outputs": [
    {
     "data": {
      "text/html": [
       "<div>\n",
       "<style scoped>\n",
       "    .dataframe tbody tr th:only-of-type {\n",
       "        vertical-align: middle;\n",
       "    }\n",
       "\n",
       "    .dataframe tbody tr th {\n",
       "        vertical-align: top;\n",
       "    }\n",
       "\n",
       "    .dataframe thead th {\n",
       "        text-align: right;\n",
       "    }\n",
       "</style>\n",
       "<table border=\"1\" class=\"dataframe\">\n",
       "  <thead>\n",
       "    <tr style=\"text-align: right;\">\n",
       "      <th></th>\n",
       "      <th>Model Name</th>\n",
       "      <th>Accuracy(%)</th>\n",
       "      <th>Mean Squared Error (MSE)</th>\n",
       "      <th>Root Mean Squared Error (RMSE)</th>\n",
       "      <th>R-squared (R2-Score)</th>\n",
       "      <th>Mean Absolute Error (MAE)</th>\n",
       "    </tr>\n",
       "  </thead>\n",
       "  <tbody>\n",
       "    <tr>\n",
       "      <th>0</th>\n",
       "      <td>Linear Regression</td>\n",
       "      <td>90.16</td>\n",
       "      <td>50430326.94</td>\n",
       "      <td>7101.431</td>\n",
       "      <td>0.902</td>\n",
       "      <td>4803.384011</td>\n",
       "    </tr>\n",
       "  </tbody>\n",
       "</table>\n",
       "</div>"
      ],
      "text/plain": [
       "          Model Name  Accuracy(%)  Mean Squared Error (MSE)  \\\n",
       "0  Linear Regression        90.16               50430326.94   \n",
       "\n",
       "   Root Mean Squared Error (RMSE)  R-squared (R2-Score)  \\\n",
       "0                        7101.431                 0.902   \n",
       "\n",
       "   Mean Absolute Error (MAE)  \n",
       "0                4803.384011  "
      ]
     },
     "execution_count": 106,
     "metadata": {},
     "output_type": "execute_result"
    }
   ],
   "source": [
    "#Displaying Metrics\n",
    "metrics_lr"
   ]
  },
  {
   "cell_type": "code",
   "execution_count": 107,
   "metadata": {},
   "outputs": [],
   "source": [
    "#GENERATES RANDOM NUMBER SAMPLES\n",
    "df = df.sample(frac = 1)"
   ]
  },
  {
   "cell_type": "markdown",
   "metadata": {},
   "source": [
    "## DECISION TREE BEST FIT"
   ]
  },
  {
   "cell_type": "code",
   "execution_count": 108,
   "metadata": {
    "colab": {
     "base_uri": "https://localhost:8080/"
    },
    "id": "VHbBxCKALzOC",
    "outputId": "657b4ce0-ac97-4b76-d2c3-d9dee9eea824"
   },
   "outputs": [
    {
     "data": {
      "text/plain": [
       "array([ 6636.        , 10030.2       ,  4500.        , ...,\n",
       "        9055.81818182, 44986.54285714,  3691.        ])"
      ]
     },
     "execution_count": 108,
     "metadata": {},
     "output_type": "execute_result"
    }
   ],
   "source": [
    "dt1 = DecisionTreeRegressor(max_depth=None, min_samples_split=10, min_samples_leaf= 2)\n",
    "dt1.fit(X_train, y_train)\n",
    "\n",
    "y_pred_dt = dt1.predict(X_test)\n",
    "y_pred_dt"
   ]
  },
  {
   "cell_type": "code",
   "execution_count": 109,
   "metadata": {
    "id": "mVfavFDULzOD"
   },
   "outputs": [],
   "source": [
    "#CALCULATING ACCURACY , MEAN SQUARED ERROR ,ROOT MEAN SQUARE ERROR, R-SQUARED ERROR AND MEAN ABSOLUTE ERROR\n",
    "score = round((dt1.score(X_test, y_test)*100), 2)\n",
    "mse = round(mean_squared_error(y_test, y_pred_dt), 3)\n",
    "rmse = round(np.sqrt(mean_squared_error(y_test, y_pred_dt)), 3)\n",
    "r2 = round(r2_score(y_test, y_pred_dt), 3)\n",
    "mae = mean_absolute_error(y_test, y_pred_dt)\n",
    "metrics_dt1 = pd.DataFrame({\n",
    "        'Model Name': 'Decision Tree Best Fit',\n",
    "        'Accuracy(%)': [score],\n",
    "        'Mean Squared Error (MSE)': [mse],\n",
    "        'Root Mean Squared Error (RMSE)': [rmse],\n",
    "        'R-squared (R2-Score)': [r2],\n",
    "        'Mean Absolute Error (MAE)': [mae]\n",
    "    })"
   ]
  },
  {
   "cell_type": "code",
   "execution_count": 110,
   "metadata": {},
   "outputs": [
    {
     "data": {
      "text/html": [
       "<div>\n",
       "<style scoped>\n",
       "    .dataframe tbody tr th:only-of-type {\n",
       "        vertical-align: middle;\n",
       "    }\n",
       "\n",
       "    .dataframe tbody tr th {\n",
       "        vertical-align: top;\n",
       "    }\n",
       "\n",
       "    .dataframe thead th {\n",
       "        text-align: right;\n",
       "    }\n",
       "</style>\n",
       "<table border=\"1\" class=\"dataframe\">\n",
       "  <thead>\n",
       "    <tr style=\"text-align: right;\">\n",
       "      <th></th>\n",
       "      <th>Model Name</th>\n",
       "      <th>Accuracy(%)</th>\n",
       "      <th>Mean Squared Error (MSE)</th>\n",
       "      <th>Root Mean Squared Error (RMSE)</th>\n",
       "      <th>R-squared (R2-Score)</th>\n",
       "      <th>Mean Absolute Error (MAE)</th>\n",
       "    </tr>\n",
       "  </thead>\n",
       "  <tbody>\n",
       "    <tr>\n",
       "      <th>0</th>\n",
       "      <td>Decision Tree Best Fit</td>\n",
       "      <td>97.69</td>\n",
       "      <td>1.182859e+07</td>\n",
       "      <td>3439.272</td>\n",
       "      <td>0.977</td>\n",
       "      <td>2106.642238</td>\n",
       "    </tr>\n",
       "  </tbody>\n",
       "</table>\n",
       "</div>"
      ],
      "text/plain": [
       "               Model Name  Accuracy(%)  Mean Squared Error (MSE)  \\\n",
       "0  Decision Tree Best Fit        97.69              1.182859e+07   \n",
       "\n",
       "   Root Mean Squared Error (RMSE)  R-squared (R2-Score)  \\\n",
       "0                        3439.272                 0.977   \n",
       "\n",
       "   Mean Absolute Error (MAE)  \n",
       "0                2106.642238  "
      ]
     },
     "execution_count": 110,
     "metadata": {},
     "output_type": "execute_result"
    }
   ],
   "source": [
    "#Displaying Metrics\n",
    "metrics_dt1"
   ]
  },
  {
   "cell_type": "markdown",
   "metadata": {},
   "source": [
    "## DECISION TREE BASIC FIT"
   ]
  },
  {
   "cell_type": "code",
   "execution_count": 111,
   "metadata": {
    "colab": {
     "base_uri": "https://localhost:8080/"
    },
    "id": "28ZzdTSzLzOE",
    "outputId": "b885ea23-b58b-4555-90a7-0f6e0a51dfb4"
   },
   "outputs": [
    {
     "data": {
      "text/plain": [
       "array([ 7515.68732741,  7314.74598816,  4833.86823303, ...,\n",
       "        8983.44261076, 53122.64179539,  3969.14435656])"
      ]
     },
     "execution_count": 111,
     "metadata": {},
     "output_type": "execute_result"
    }
   ],
   "source": [
    "dt2 = DecisionTreeRegressor(max_depth=5, min_samples_split=10)\n",
    "dt2.fit(X_train, y_train)\n",
    "\n",
    "y_pred = dt2.predict(X_test)\n",
    "y_pred"
   ]
  },
  {
   "cell_type": "code",
   "execution_count": 112,
   "metadata": {
    "id": "wtiIrXBLLzOG"
   },
   "outputs": [],
   "source": [
    "#CALCULATING ACCURACY , MEAN SQUARED ERROR ,ROOT MEAN SQUARE ERROR, R-SQUARED ERROR AND MEAN ABSOLUTE ERROR\n",
    "score = round((dt2.score(X_test, y_test)*100), 2)\n",
    "mse = round(mean_squared_error(y_test, y_pred), 3)\n",
    "rmse = round(np.sqrt(mean_squared_error(y_test, y_pred)), 3)\n",
    "r2 = round(r2_score(y_test, y_pred), 3)\n",
    "mae = mean_absolute_error(y_test, y_pred)\n",
    "metrics_dt2 = pd.DataFrame({\n",
    "        'Model Name': 'Decision Tree Basic Fit',\n",
    "        'Accuracy(%)': [score],\n",
    "        'Mean Squared Error (MSE)': [mse],\n",
    "        'Root Mean Squared Error (RMSE)': [rmse],\n",
    "        'R-squared (R2-Score)': [r2],\n",
    "        'Mean Absolute Error (MAE)': [mae]\n",
    "    })"
   ]
  },
  {
   "cell_type": "code",
   "execution_count": 113,
   "metadata": {},
   "outputs": [
    {
     "data": {
      "text/html": [
       "<div>\n",
       "<style scoped>\n",
       "    .dataframe tbody tr th:only-of-type {\n",
       "        vertical-align: middle;\n",
       "    }\n",
       "\n",
       "    .dataframe tbody tr th {\n",
       "        vertical-align: top;\n",
       "    }\n",
       "\n",
       "    .dataframe thead th {\n",
       "        text-align: right;\n",
       "    }\n",
       "</style>\n",
       "<table border=\"1\" class=\"dataframe\">\n",
       "  <thead>\n",
       "    <tr style=\"text-align: right;\">\n",
       "      <th></th>\n",
       "      <th>Model Name</th>\n",
       "      <th>Accuracy(%)</th>\n",
       "      <th>Mean Squared Error (MSE)</th>\n",
       "      <th>Root Mean Squared Error (RMSE)</th>\n",
       "      <th>R-squared (R2-Score)</th>\n",
       "      <th>Mean Absolute Error (MAE)</th>\n",
       "    </tr>\n",
       "  </thead>\n",
       "  <tbody>\n",
       "    <tr>\n",
       "      <th>0</th>\n",
       "      <td>Decision Tree Basic Fit</td>\n",
       "      <td>93.76</td>\n",
       "      <td>3.200600e+07</td>\n",
       "      <td>5657.384</td>\n",
       "      <td>0.938</td>\n",
       "      <td>3752.367241</td>\n",
       "    </tr>\n",
       "  </tbody>\n",
       "</table>\n",
       "</div>"
      ],
      "text/plain": [
       "                Model Name  Accuracy(%)  Mean Squared Error (MSE)  \\\n",
       "0  Decision Tree Basic Fit        93.76              3.200600e+07   \n",
       "\n",
       "   Root Mean Squared Error (RMSE)  R-squared (R2-Score)  \\\n",
       "0                        5657.384                 0.938   \n",
       "\n",
       "   Mean Absolute Error (MAE)  \n",
       "0                3752.367241  "
      ]
     },
     "execution_count": 113,
     "metadata": {},
     "output_type": "execute_result"
    }
   ],
   "source": [
    "#Displaying Metrics\n",
    "metrics_dt2"
   ]
  },
  {
   "cell_type": "code",
   "execution_count": 114,
   "metadata": {},
   "outputs": [
    {
     "data": {
      "text/plain": [
       "3969.1443565561303"
      ]
     },
     "execution_count": 114,
     "metadata": {},
     "output_type": "execute_result"
    }
   ],
   "source": [
    "#DISPLAYING PRICE OF THE INDEX 60052\n",
    "y_pred[60052]"
   ]
  },
  {
   "cell_type": "markdown",
   "metadata": {},
   "source": [
    "## RANDOM FOREST"
   ]
  },
  {
   "cell_type": "code",
   "execution_count": 115,
   "metadata": {
    "id": "Plkoe-8ILzOI"
   },
   "outputs": [
    {
     "data": {
      "text/plain": [
       "array([ 6596.56419714,  9079.97032799,  4532.05542783, ...,\n",
       "        9035.86733751, 45025.4311191 ,  3767.35759007])"
      ]
     },
     "execution_count": 115,
     "metadata": {},
     "output_type": "execute_result"
    }
   ],
   "source": [
    "rf = RandomForestRegressor(n_estimators=100, max_depth=20, random_state=75)\n",
    "rf.fit(X_train, y_train)\n",
    "\n",
    "y_pred_rf = rf.predict(X_test)\n",
    "y_pred_rf"
   ]
  },
  {
   "cell_type": "code",
   "execution_count": 116,
   "metadata": {
    "id": "VEVW7mGQLzOJ"
   },
   "outputs": [],
   "source": [
    "#CALCULATING ACCURACY , MEAN SQUARED ERROR ,ROOT MEAN SQUARE ERROR, R-SQUARED ERROR AND MEAN ABSOLUTE ERROR\n",
    "score = round((rf.score(X_test, y_test)*100), 2)\n",
    "mse = round(mean_squared_error(y_test, y_pred_rf), 3)\n",
    "rmse = round(np.sqrt(mean_squared_error(y_test, y_pred_rf)), 3)\n",
    "r2 = round(r2_score(y_test, y_pred_rf), 3)\n",
    "mae = mean_absolute_error(y_test, y_pred_rf)\n",
    "metrics_rf = pd.DataFrame({\n",
    "        'Model Name': 'Random Forest',\n",
    "        'Accuracy(%)': [score],\n",
    "        'Mean Squared Error (MSE)': [mse],\n",
    "        'Root Mean Squared Error (RMSE)': [rmse],\n",
    "        'R-squared (R2-Score)': [r2],\n",
    "        'Mean Absolute Error (MAE)': [mae]\n",
    "    })"
   ]
  },
  {
   "cell_type": "code",
   "execution_count": 117,
   "metadata": {},
   "outputs": [
    {
     "data": {
      "text/html": [
       "<div>\n",
       "<style scoped>\n",
       "    .dataframe tbody tr th:only-of-type {\n",
       "        vertical-align: middle;\n",
       "    }\n",
       "\n",
       "    .dataframe tbody tr th {\n",
       "        vertical-align: top;\n",
       "    }\n",
       "\n",
       "    .dataframe thead th {\n",
       "        text-align: right;\n",
       "    }\n",
       "</style>\n",
       "<table border=\"1\" class=\"dataframe\">\n",
       "  <thead>\n",
       "    <tr style=\"text-align: right;\">\n",
       "      <th></th>\n",
       "      <th>Model Name</th>\n",
       "      <th>Accuracy(%)</th>\n",
       "      <th>Mean Squared Error (MSE)</th>\n",
       "      <th>Root Mean Squared Error (RMSE)</th>\n",
       "      <th>R-squared (R2-Score)</th>\n",
       "      <th>Mean Absolute Error (MAE)</th>\n",
       "    </tr>\n",
       "  </thead>\n",
       "  <tbody>\n",
       "    <tr>\n",
       "      <th>0</th>\n",
       "      <td>Random Forest</td>\n",
       "      <td>97.74</td>\n",
       "      <td>1.159270e+07</td>\n",
       "      <td>3404.805</td>\n",
       "      <td>0.977</td>\n",
       "      <td>2105.297252</td>\n",
       "    </tr>\n",
       "  </tbody>\n",
       "</table>\n",
       "</div>"
      ],
      "text/plain": [
       "      Model Name  Accuracy(%)  Mean Squared Error (MSE)  \\\n",
       "0  Random Forest        97.74              1.159270e+07   \n",
       "\n",
       "   Root Mean Squared Error (RMSE)  R-squared (R2-Score)  \\\n",
       "0                        3404.805                 0.977   \n",
       "\n",
       "   Mean Absolute Error (MAE)  \n",
       "0                2105.297252  "
      ]
     },
     "execution_count": 117,
     "metadata": {},
     "output_type": "execute_result"
    }
   ],
   "source": [
    "#Displaying Metrics\n",
    "metrics_rf"
   ]
  },
  {
   "cell_type": "markdown",
   "metadata": {},
   "source": [
    "# COMPARATIVE ANALYSIS OF ALL 4 TECHNIQUES(Model Selection)"
   ]
  },
  {
   "cell_type": "code",
   "execution_count": 118,
   "metadata": {
    "id": "xlNH8Ev5LzOP"
   },
   "outputs": [
    {
     "data": {
      "text/html": [
       "<div>\n",
       "<style scoped>\n",
       "    .dataframe tbody tr th:only-of-type {\n",
       "        vertical-align: middle;\n",
       "    }\n",
       "\n",
       "    .dataframe tbody tr th {\n",
       "        vertical-align: top;\n",
       "    }\n",
       "\n",
       "    .dataframe thead th {\n",
       "        text-align: right;\n",
       "    }\n",
       "</style>\n",
       "<table border=\"1\" class=\"dataframe\">\n",
       "  <thead>\n",
       "    <tr style=\"text-align: right;\">\n",
       "      <th></th>\n",
       "      <th>Model Name</th>\n",
       "      <th>Accuracy(%)</th>\n",
       "      <th>Mean Squared Error (MSE)</th>\n",
       "      <th>Root Mean Squared Error (RMSE)</th>\n",
       "      <th>R-squared (R2-Score)</th>\n",
       "      <th>Mean Absolute Error (MAE)</th>\n",
       "    </tr>\n",
       "  </thead>\n",
       "  <tbody>\n",
       "    <tr>\n",
       "      <th>0</th>\n",
       "      <td>Linear Regression</td>\n",
       "      <td>90.16</td>\n",
       "      <td>5.043033e+07</td>\n",
       "      <td>7101.431</td>\n",
       "      <td>0.902</td>\n",
       "      <td>4803.384011</td>\n",
       "    </tr>\n",
       "    <tr>\n",
       "      <th>1</th>\n",
       "      <td>Decision Tree Best Fit</td>\n",
       "      <td>97.69</td>\n",
       "      <td>1.182859e+07</td>\n",
       "      <td>3439.272</td>\n",
       "      <td>0.977</td>\n",
       "      <td>2106.642238</td>\n",
       "    </tr>\n",
       "    <tr>\n",
       "      <th>2</th>\n",
       "      <td>Decision Tree Basic Fit</td>\n",
       "      <td>93.76</td>\n",
       "      <td>3.200600e+07</td>\n",
       "      <td>5657.384</td>\n",
       "      <td>0.938</td>\n",
       "      <td>3752.367241</td>\n",
       "    </tr>\n",
       "    <tr>\n",
       "      <th>3</th>\n",
       "      <td>Random Forest</td>\n",
       "      <td>97.74</td>\n",
       "      <td>1.159270e+07</td>\n",
       "      <td>3404.805</td>\n",
       "      <td>0.977</td>\n",
       "      <td>2105.297252</td>\n",
       "    </tr>\n",
       "  </tbody>\n",
       "</table>\n",
       "</div>"
      ],
      "text/plain": [
       "                Model Name  Accuracy(%)  Mean Squared Error (MSE)  \\\n",
       "0        Linear Regression        90.16              5.043033e+07   \n",
       "1   Decision Tree Best Fit        97.69              1.182859e+07   \n",
       "2  Decision Tree Basic Fit        93.76              3.200600e+07   \n",
       "3            Random Forest        97.74              1.159270e+07   \n",
       "\n",
       "   Root Mean Squared Error (RMSE)  R-squared (R2-Score)  \\\n",
       "0                        7101.431                 0.902   \n",
       "1                        3439.272                 0.977   \n",
       "2                        5657.384                 0.938   \n",
       "3                        3404.805                 0.977   \n",
       "\n",
       "   Mean Absolute Error (MAE)  \n",
       "0                4803.384011  \n",
       "1                2106.642238  \n",
       "2                3752.367241  \n",
       "3                2105.297252  "
      ]
     },
     "execution_count": 118,
     "metadata": {},
     "output_type": "execute_result"
    }
   ],
   "source": [
    "#CONCLUSION-RANDOM FOREST HAS MOST ACCURACY\n",
    "all_results = pd.concat([metrics_lr,metrics_dt1,metrics_dt2,metrics_rf], ignore_index=True)\n",
    "all_results"
   ]
  },
  {
   "cell_type": "code",
   "execution_count": 120,
   "metadata": {},
   "outputs": [
    {
     "data": {
      "text/html": [
       "<div>\n",
       "<style scoped>\n",
       "    .dataframe tbody tr th:only-of-type {\n",
       "        vertical-align: middle;\n",
       "    }\n",
       "\n",
       "    .dataframe tbody tr th {\n",
       "        vertical-align: top;\n",
       "    }\n",
       "\n",
       "    .dataframe thead th {\n",
       "        text-align: right;\n",
       "    }\n",
       "</style>\n",
       "<table border=\"1\" class=\"dataframe\">\n",
       "  <thead>\n",
       "    <tr style=\"text-align: right;\">\n",
       "      <th></th>\n",
       "      <th>AIRLINE</th>\n",
       "      <th>CH_CODE</th>\n",
       "      <th>NUM_CODE</th>\n",
       "      <th>DEP_TIME</th>\n",
       "      <th>FROM</th>\n",
       "      <th>TIME_TAKEN</th>\n",
       "      <th>ARR_TIME</th>\n",
       "      <th>TO</th>\n",
       "      <th>PRICE</th>\n",
       "      <th>CLASS</th>\n",
       "      <th>NUMBER_OF_STOPS</th>\n",
       "    </tr>\n",
       "  </thead>\n",
       "  <tbody>\n",
       "    <tr>\n",
       "      <th>0</th>\n",
       "      <td>4</td>\n",
       "      <td>6</td>\n",
       "      <td>8709</td>\n",
       "      <td>190</td>\n",
       "      <td>2</td>\n",
       "      <td>16</td>\n",
       "      <td>230</td>\n",
       "      <td>5</td>\n",
       "      <td>5953</td>\n",
       "      <td>1</td>\n",
       "      <td>0</td>\n",
       "    </tr>\n",
       "    <tr>\n",
       "      <th>1</th>\n",
       "      <td>4</td>\n",
       "      <td>6</td>\n",
       "      <td>8157</td>\n",
       "      <td>40</td>\n",
       "      <td>2</td>\n",
       "      <td>18</td>\n",
       "      <td>81</td>\n",
       "      <td>5</td>\n",
       "      <td>5953</td>\n",
       "      <td>1</td>\n",
       "      <td>0</td>\n",
       "    </tr>\n",
       "    <tr>\n",
       "      <th>2</th>\n",
       "      <td>1</td>\n",
       "      <td>4</td>\n",
       "      <td>764</td>\n",
       "      <td>17</td>\n",
       "      <td>2</td>\n",
       "      <td>16</td>\n",
       "      <td>56</td>\n",
       "      <td>5</td>\n",
       "      <td>5956</td>\n",
       "      <td>1</td>\n",
       "      <td>0</td>\n",
       "    </tr>\n",
       "    <tr>\n",
       "      <th>3</th>\n",
       "      <td>7</td>\n",
       "      <td>7</td>\n",
       "      <td>995</td>\n",
       "      <td>88</td>\n",
       "      <td>2</td>\n",
       "      <td>17</td>\n",
       "      <td>128</td>\n",
       "      <td>5</td>\n",
       "      <td>5955</td>\n",
       "      <td>1</td>\n",
       "      <td>0</td>\n",
       "    </tr>\n",
       "    <tr>\n",
       "      <th>4</th>\n",
       "      <td>7</td>\n",
       "      <td>7</td>\n",
       "      <td>963</td>\n",
       "      <td>70</td>\n",
       "      <td>2</td>\n",
       "      <td>18</td>\n",
       "      <td>111</td>\n",
       "      <td>5</td>\n",
       "      <td>5955</td>\n",
       "      <td>1</td>\n",
       "      <td>0</td>\n",
       "    </tr>\n",
       "    <tr>\n",
       "      <th>...</th>\n",
       "      <td>...</td>\n",
       "      <td>...</td>\n",
       "      <td>...</td>\n",
       "      <td>...</td>\n",
       "      <td>...</td>\n",
       "      <td>...</td>\n",
       "      <td>...</td>\n",
       "      <td>...</td>\n",
       "      <td>...</td>\n",
       "      <td>...</td>\n",
       "      <td>...</td>\n",
       "    </tr>\n",
       "    <tr>\n",
       "      <th>300256</th>\n",
       "      <td>7</td>\n",
       "      <td>7</td>\n",
       "      <td>822</td>\n",
       "      <td>81</td>\n",
       "      <td>1</td>\n",
       "      <td>116</td>\n",
       "      <td>215</td>\n",
       "      <td>3</td>\n",
       "      <td>69265</td>\n",
       "      <td>0</td>\n",
       "      <td>1</td>\n",
       "    </tr>\n",
       "    <tr>\n",
       "      <th>300257</th>\n",
       "      <td>7</td>\n",
       "      <td>7</td>\n",
       "      <td>826</td>\n",
       "      <td>113</td>\n",
       "      <td>1</td>\n",
       "      <td>120</td>\n",
       "      <td>252</td>\n",
       "      <td>3</td>\n",
       "      <td>77105</td>\n",
       "      <td>0</td>\n",
       "      <td>1</td>\n",
       "    </tr>\n",
       "    <tr>\n",
       "      <th>300258</th>\n",
       "      <td>7</td>\n",
       "      <td>7</td>\n",
       "      <td>832</td>\n",
       "      <td>49</td>\n",
       "      <td>1</td>\n",
       "      <td>162</td>\n",
       "      <td>228</td>\n",
       "      <td>3</td>\n",
       "      <td>79099</td>\n",
       "      <td>0</td>\n",
       "      <td>1</td>\n",
       "    </tr>\n",
       "    <tr>\n",
       "      <th>300259</th>\n",
       "      <td>7</td>\n",
       "      <td>7</td>\n",
       "      <td>828</td>\n",
       "      <td>48</td>\n",
       "      <td>1</td>\n",
       "      <td>115</td>\n",
       "      <td>181</td>\n",
       "      <td>3</td>\n",
       "      <td>81585</td>\n",
       "      <td>0</td>\n",
       "      <td>1</td>\n",
       "    </tr>\n",
       "    <tr>\n",
       "      <th>300260</th>\n",
       "      <td>7</td>\n",
       "      <td>7</td>\n",
       "      <td>822</td>\n",
       "      <td>81</td>\n",
       "      <td>1</td>\n",
       "      <td>116</td>\n",
       "      <td>215</td>\n",
       "      <td>3</td>\n",
       "      <td>81585</td>\n",
       "      <td>0</td>\n",
       "      <td>1</td>\n",
       "    </tr>\n",
       "  </tbody>\n",
       "</table>\n",
       "<p>300261 rows × 11 columns</p>\n",
       "</div>"
      ],
      "text/plain": [
       "        AIRLINE  CH_CODE  NUM_CODE  DEP_TIME  FROM  TIME_TAKEN  ARR_TIME  TO  \\\n",
       "0             4        6      8709       190     2          16       230   5   \n",
       "1             4        6      8157        40     2          18        81   5   \n",
       "2             1        4       764        17     2          16        56   5   \n",
       "3             7        7       995        88     2          17       128   5   \n",
       "4             7        7       963        70     2          18       111   5   \n",
       "...         ...      ...       ...       ...   ...         ...       ...  ..   \n",
       "300256        7        7       822        81     1         116       215   3   \n",
       "300257        7        7       826       113     1         120       252   3   \n",
       "300258        7        7       832        49     1         162       228   3   \n",
       "300259        7        7       828        48     1         115       181   3   \n",
       "300260        7        7       822        81     1         116       215   3   \n",
       "\n",
       "        PRICE  CLASS  NUMBER_OF_STOPS  \n",
       "0        5953      1                0  \n",
       "1        5953      1                0  \n",
       "2        5956      1                0  \n",
       "3        5955      1                0  \n",
       "4        5955      1                0  \n",
       "...       ...    ...              ...  \n",
       "300256  69265      0                1  \n",
       "300257  77105      0                1  \n",
       "300258  79099      0                1  \n",
       "300259  81585      0                1  \n",
       "300260  81585      0                1  \n",
       "\n",
       "[300261 rows x 11 columns]"
      ]
     },
     "execution_count": 120,
     "metadata": {},
     "output_type": "execute_result"
    }
   ],
   "source": [
    "#ENCODED BACK-UP DATAFRAME\n",
    "df_back"
   ]
  },
  {
   "cell_type": "markdown",
   "metadata": {},
   "source": [
    "# PRICE PREDICTION"
   ]
  },
  {
   "cell_type": "code",
   "execution_count": 121,
   "metadata": {
    "colab": {
     "base_uri": "https://localhost:8080/",
     "height": 81
    },
    "id": "eLS0w9kVLzOV",
    "outputId": "2ca314b7-7036-4fc8-b604-82de297034b5"
   },
   "outputs": [],
   "source": [
    "#VALUES TO PREDICT PRICE\n",
    "lst=[['Vistara','UK','963','08:50','Delhi','02h 20m','11:10','Mumbai','Economy','0']]\n",
    "#CREATE NEW DATAFRAME AND ADDED COLUMN HEADINGS\n",
    "df_test = pd.DataFrame(lst,columns =['AIRLINE', 'CH_CODE','NUM_CODE','DEP_TIME', 'FROM', 'TIME_TAKEN', 'ARR_TIME','TO','CLASS','NUMBER_OF_STOPS'])"
   ]
  },
  {
   "cell_type": "code",
   "execution_count": 122,
   "metadata": {
    "colab": {
     "base_uri": "https://localhost:8080/"
    },
    "id": "WrOjdnPQhlyn",
    "outputId": "6f07c3a1-c432-4a2e-d0e2-fdfde2afe98b"
   },
   "outputs": [
    {
     "data": {
      "text/html": [
       "<div>\n",
       "<style scoped>\n",
       "    .dataframe tbody tr th:only-of-type {\n",
       "        vertical-align: middle;\n",
       "    }\n",
       "\n",
       "    .dataframe tbody tr th {\n",
       "        vertical-align: top;\n",
       "    }\n",
       "\n",
       "    .dataframe thead th {\n",
       "        text-align: right;\n",
       "    }\n",
       "</style>\n",
       "<table border=\"1\" class=\"dataframe\">\n",
       "  <thead>\n",
       "    <tr style=\"text-align: right;\">\n",
       "      <th></th>\n",
       "      <th>AIRLINE</th>\n",
       "      <th>CH_CODE</th>\n",
       "      <th>NUM_CODE</th>\n",
       "      <th>DEP_TIME</th>\n",
       "      <th>FROM</th>\n",
       "      <th>TIME_TAKEN</th>\n",
       "      <th>ARR_TIME</th>\n",
       "      <th>TO</th>\n",
       "      <th>CLASS</th>\n",
       "      <th>NUMBER_OF_STOPS</th>\n",
       "    </tr>\n",
       "  </thead>\n",
       "  <tbody>\n",
       "    <tr>\n",
       "      <th>0</th>\n",
       "      <td>Vistara</td>\n",
       "      <td>UK</td>\n",
       "      <td>963</td>\n",
       "      <td>08:50</td>\n",
       "      <td>Delhi</td>\n",
       "      <td>02h 20m</td>\n",
       "      <td>11:10</td>\n",
       "      <td>Mumbai</td>\n",
       "      <td>Economy</td>\n",
       "      <td>0</td>\n",
       "    </tr>\n",
       "  </tbody>\n",
       "</table>\n",
       "</div>"
      ],
      "text/plain": [
       "   AIRLINE CH_CODE NUM_CODE DEP_TIME   FROM TIME_TAKEN ARR_TIME      TO  \\\n",
       "0  Vistara      UK      963    08:50  Delhi    02h 20m    11:10  Mumbai   \n",
       "\n",
       "     CLASS NUMBER_OF_STOPS  \n",
       "0  Economy               0  "
      ]
     },
     "execution_count": 122,
     "metadata": {},
     "output_type": "execute_result"
    }
   ],
   "source": [
    "df_test"
   ]
  },
  {
   "cell_type": "code",
   "execution_count": 123,
   "metadata": {
    "colab": {
     "base_uri": "https://localhost:8080/"
    },
    "id": "YbnPPN41rPcQ",
    "outputId": "9e547fca-7d1a-4d54-c9f0-5b03f3cef2fc"
   },
   "outputs": [
    {
     "data": {
      "text/plain": [
       "array([3893.05555556])"
      ]
     },
     "execution_count": 123,
     "metadata": {},
     "output_type": "execute_result"
    }
   ],
   "source": [
    "import pickle\n",
    "dbfile = open('dataframe', 'rb')     \n",
    "df_back_final = pickle.load(dbfile)\n",
    "df_back_final=pd.DataFrame(df_back_final)\n",
    "df_back_final_user=pd.concat([df_back_final,df_test])\n",
    "df_back_final_user\n",
    "df_back_final_user=df_back_final_user.drop(columns=['PRICE'])\n",
    "\n",
    "label_encoder = preprocessing.LabelEncoder()\n",
    "for column in categorical_columns:\n",
    "\tdf_back_final_user[column]= label_encoder.fit_transform(df_back_final_user[column])\n",
    "df_test_final=df_back_final_user.tail(1)\n",
    "df_test_final\n",
    "\n",
    "rf = RandomForestRegressor(n_estimators=100, max_depth=20, random_state=75)\n",
    "rf.fit(X_train, y_train)\n",
    "\n",
    "y_pred_rf = rf.predict(df_test_final)\n",
    "y_pred_rf\n",
    "\n",
    "dt1 = DecisionTreeRegressor(max_depth=None, min_samples_split=10, min_samples_leaf= 2)\n",
    "dt1.fit(X_train, y_train)\n",
    "\n",
    "y_pred_dt = dt1.predict(df_test_final)\n",
    "y_pred_dt"
   ]
  },
  {
   "cell_type": "code",
   "execution_count": 127,
   "metadata": {},
   "outputs": [],
   "source": [
    "def prediction(lst):\n",
    "    df_test = pd.DataFrame(lst,columns =['AIRLINE', 'CH_CODE','NUM_CODE','DEP_TIME', 'FROM', 'TIME_TAKEN', 'ARR_TIME','TO','CLASS','NUMBER_OF_STOPS'])\n",
    "    df_test\n",
    "    import pickle\n",
    "    dbfile = open('dataframe', 'rb')     \n",
    "    df_back_final = pickle.load(dbfile)\n",
    "    df_back_final=pd.DataFrame(df_back_final)\n",
    "    df_back_final_user=pd.concat([df_back_final,df_test])\n",
    "    df_back_final_user\n",
    "    df_back_final_user=df_back_final_user.drop(columns=['PRICE'])\n",
    "    \n",
    "    label_encoder = preprocessing.LabelEncoder()\n",
    "    for column in categorical_columns:\n",
    "        df_back_final_user[column]= label_encoder.fit_transform(df_back_final_user[column])\n",
    "    df_test_final=df_back_final_user.tail(1)\n",
    "    df_test_final\n",
    "    \n",
    "    rf = RandomForestRegressor(n_estimators=100, max_depth=20, random_state=75)\n",
    "    rf.fit(X_train, y_train)\n",
    "    y_pred_rf = rf.predict(df_test_final)\n",
    "    return y_pred_rf\n",
    "    "
   ]
  },
  {
   "cell_type": "code",
   "execution_count": 128,
   "metadata": {},
   "outputs": [],
   "source": [
    "#USER ENTRY TO PREDICT PRICE\n",
    "lst=[['Vistara','UK','963','08:50','Delhi','02h 20m','11:10','Mumbai','Economy','0']]"
   ]
  },
  {
   "cell_type": "markdown",
   "metadata": {},
   "source": [
    "### Value Prediction "
   ]
  },
  {
   "cell_type": "code",
   "execution_count": 129,
   "metadata": {},
   "outputs": [
    {
     "data": {
      "text/plain": [
       "array([3910.39211662])"
      ]
     },
     "execution_count": 129,
     "metadata": {},
     "output_type": "execute_result"
    }
   ],
   "source": [
    "#PRICE PREDICTION\n",
    "prediction(lst)"
   ]
  },
  {
   "cell_type": "code",
   "execution_count": 130,
   "metadata": {},
   "outputs": [],
   "source": [
    "#CLOSING THE MODEL AFTER SAVING AND LOADING\n",
    "import pickle\n",
    "model = open('model', 'wb')\n",
    "pickle.dump(prediction,model)\n",
    "model.close()"
   ]
  }
 ],
 "metadata": {
  "colab": {
   "provenance": []
  },
  "kernelspec": {
   "display_name": "Python 3 (ipykernel)",
   "language": "python",
   "name": "python3"
  },
  "language_info": {
   "codemirror_mode": {
    "name": "ipython",
    "version": 3
   },
   "file_extension": ".py",
   "mimetype": "text/x-python",
   "name": "python",
   "nbconvert_exporter": "python",
   "pygments_lexer": "ipython3",
   "version": "3.9.13"
  }
 },
 "nbformat": 4,
 "nbformat_minor": 1
}
